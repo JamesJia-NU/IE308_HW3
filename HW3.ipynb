{
 "cells": [
  {
   "cell_type": "code",
   "execution_count": 3,
   "metadata": {},
   "outputs": [],
   "source": [
    "import re\n",
    "import nltk\n",
    "from nltk.tokenize import word_tokenize\n",
    "from nltk.corpus import stopwords\n",
    "from nltk.stem import PorterStemmer\n",
    "from nltk.stem import WordNetLemmatizer"
   ]
  },
  {
   "cell_type": "markdown",
   "metadata": {},
   "source": [
    "## Text Import"
   ]
  },
  {
   "cell_type": "code",
   "execution_count": 4,
   "metadata": {},
   "outputs": [],
   "source": [
    "## Combing all text file together for training dataset\n",
    "\n",
    "import glob\n",
    "\n",
    "read_2013 = glob.glob(\"C:/Users/James Jia/Desktop/HW3/2013/*.txt\")\n",
    "with open(\"C:/Users/James Jia/Desktop/HW3/2013.txt\",\"wb\") as outfile:\n",
    "    for f in read_2013:\n",
    "        with open(f, \"rb\") as infile:\n",
    "            content = infile.read()\n",
    "            outfile.write(content)\n",
    "            \n",
    "read_2014 = glob.glob(\"C:/Users/James Jia/Desktop/HW3/2014/*.txt\")\n",
    "with open(\"C:/Users/James Jia/Desktop/HW3/2014.txt\",\"wb\") as outfile:\n",
    "    for f in read_2014:\n",
    "        with open(f, \"rb\") as infile:\n",
    "            content = infile.read()\n",
    "            outfile.write(content)\n",
    "\n",
    "filenames = [\"2013.txt\",\"2014.txt\"]\n",
    "with open(\"C:/Users/James Jia/Desktop/HW3/raw_text.txt\",\"wb\") as outfile:\n",
    "    for f in filenames:\n",
    "        with open(f, \"rb\") as infile:\n",
    "            content = infile.read()\n",
    "            outfile.write(content)"
   ]
  },
  {
   "cell_type": "code",
   "execution_count": 5,
   "metadata": {},
   "outputs": [],
   "source": [
    "text = open(\"raw_text.txt\",\"r\",encoding='utf-8',errors='ignore').read()"
   ]
  },
  {
   "cell_type": "markdown",
   "metadata": {},
   "source": [
    "## Text Preprocessing"
   ]
  },
  {
   "cell_type": "code",
   "execution_count": 6,
   "metadata": {},
   "outputs": [],
   "source": [
    "## Tokenization\n",
    "\n",
    "text = text.replace(\"\\\\\",\" \").replace(\"\\n\",\" \").replace('\"',\" \").replace(\",\",\"\")\n",
    "text = word_tokenize(text)"
   ]
  },
  {
   "cell_type": "code",
   "execution_count": 7,
   "metadata": {},
   "outputs": [],
   "source": [
    "## Remove stopwords\n",
    "\n",
    "stop_word = set(stopwords.words(\"english\"))\n",
    "text = [i for i in text if not i in stop_word]"
   ]
  },
  {
   "cell_type": "code",
   "execution_count": 8,
   "metadata": {},
   "outputs": [],
   "source": [
    "## Lematization\n",
    "lemma = WordNetLemmatizer()\n",
    "text = [ lemma.lemmatize(token) for token in text ]"
   ]
  },
  {
   "cell_type": "code",
   "execution_count": 9,
   "metadata": {},
   "outputs": [],
   "source": [
    "## clean tokenized \".\" and brackets\n",
    "text = [ token for token in text if token != '.']\n",
    "text = [ token for token in text if token != '(']\n",
    "text = [ token for token in text if token != ')']"
   ]
  },
  {
   "cell_type": "code",
   "execution_count": 10,
   "metadata": {},
   "outputs": [
    {
     "data": {
      "text/plain": [
       "9609708"
      ]
     },
     "execution_count": 10,
     "metadata": {},
     "output_type": "execute_result"
    }
   ],
   "source": [
    "len(text)"
   ]
  },
  {
   "cell_type": "markdown",
   "metadata": {},
   "source": [
    "## Label import"
   ]
  },
  {
   "cell_type": "code",
   "execution_count": 71,
   "metadata": {},
   "outputs": [],
   "source": [
    "import pandas as pd\n",
    "ceo = pd.read_csv('C:/Users/James Jia/Desktop/HW3/labels/ceo_clean.csv', header=None,names=['name'])"
   ]
  },
  {
   "cell_type": "code",
   "execution_count": 72,
   "metadata": {},
   "outputs": [
    {
     "data": {
      "text/html": [
       "<div>\n",
       "<style scoped>\n",
       "    .dataframe tbody tr th:only-of-type {\n",
       "        vertical-align: middle;\n",
       "    }\n",
       "\n",
       "    .dataframe tbody tr th {\n",
       "        vertical-align: top;\n",
       "    }\n",
       "\n",
       "    .dataframe thead th {\n",
       "        text-align: right;\n",
       "    }\n",
       "</style>\n",
       "<table border=\"1\" class=\"dataframe\">\n",
       "  <thead>\n",
       "    <tr style=\"text-align: right;\">\n",
       "      <th></th>\n",
       "      <th>name</th>\n",
       "    </tr>\n",
       "  </thead>\n",
       "  <tbody>\n",
       "    <tr>\n",
       "      <th>0</th>\n",
       "      <td>Tom Horton</td>\n",
       "    </tr>\n",
       "    <tr>\n",
       "      <th>1</th>\n",
       "      <td>Patti Hart</td>\n",
       "    </tr>\n",
       "    <tr>\n",
       "      <th>2</th>\n",
       "      <td>Jamie Dimon</td>\n",
       "    </tr>\n",
       "  </tbody>\n",
       "</table>\n",
       "</div>"
      ],
      "text/plain": [
       "          name\n",
       "0   Tom Horton\n",
       "1   Patti Hart\n",
       "2  Jamie Dimon"
      ]
     },
     "execution_count": 72,
     "metadata": {},
     "output_type": "execute_result"
    }
   ],
   "source": [
    "ceo = ceo.drop_duplicates()\n",
    "ceo.head(3)"
   ]
  },
  {
   "cell_type": "code",
   "execution_count": 73,
   "metadata": {},
   "outputs": [],
   "source": [
    "## single-name lable does not make sense, remove\n",
    "ceo['len'] = 0\n",
    "ceo = ceo.reset_index(drop=True)\n",
    "\n",
    "for index, row in ceo.iterrows():\n",
    "    name_arr = row['name'].split()\n",
    "    length = len(name_arr)\n",
    "    ceo.iat[index,1] = length\n",
    "\n",
    "ceo = ceo.loc[ceo[\"len\"] >= 2]\n",
    "ceo = ceo.reset_index(drop=True)"
   ]
  },
  {
   "cell_type": "code",
   "execution_count": 74,
   "metadata": {},
   "outputs": [
    {
     "data": {
      "text/plain": [
       "1532"
      ]
     },
     "execution_count": 74,
     "metadata": {},
     "output_type": "execute_result"
    }
   ],
   "source": [
    "len(ceo)"
   ]
  },
  {
   "cell_type": "code",
   "execution_count": 418,
   "metadata": {},
   "outputs": [],
   "source": [
    "company = pd.read_csv('C:/Users/James Jia/Desktop/HW3/labels/companies.csv', header=None,names=['name'])"
   ]
  },
  {
   "cell_type": "code",
   "execution_count": 419,
   "metadata": {},
   "outputs": [
    {
     "data": {
      "text/html": [
       "<div>\n",
       "<style scoped>\n",
       "    .dataframe tbody tr th:only-of-type {\n",
       "        vertical-align: middle;\n",
       "    }\n",
       "\n",
       "    .dataframe tbody tr th {\n",
       "        vertical-align: top;\n",
       "    }\n",
       "\n",
       "    .dataframe thead th {\n",
       "        text-align: right;\n",
       "    }\n",
       "</style>\n",
       "<table border=\"1\" class=\"dataframe\">\n",
       "  <thead>\n",
       "    <tr style=\"text-align: right;\">\n",
       "      <th></th>\n",
       "      <th>name</th>\n",
       "    </tr>\n",
       "  </thead>\n",
       "  <tbody>\n",
       "    <tr>\n",
       "      <th>0</th>\n",
       "      <td>Abaxis Inc</td>\n",
       "    </tr>\n",
       "    <tr>\n",
       "      <th>1</th>\n",
       "      <td>ACA Financial</td>\n",
       "    </tr>\n",
       "    <tr>\n",
       "      <th>2</th>\n",
       "      <td>Alibaba Group Holding Ltd</td>\n",
       "    </tr>\n",
       "  </tbody>\n",
       "</table>\n",
       "</div>"
      ],
      "text/plain": [
       "                        name\n",
       "0                 Abaxis Inc\n",
       "1              ACA Financial\n",
       "2  Alibaba Group Holding Ltd"
      ]
     },
     "execution_count": 419,
     "metadata": {},
     "output_type": "execute_result"
    }
   ],
   "source": [
    "company = company.drop_duplicates()\n",
    "company = company.reset_index(drop=True)\n",
    "company.head(3)"
   ]
  },
  {
   "cell_type": "code",
   "execution_count": 420,
   "metadata": {},
   "outputs": [
    {
     "data": {
      "text/plain": [
       "2592"
      ]
     },
     "execution_count": 420,
     "metadata": {},
     "output_type": "execute_result"
    }
   ],
   "source": [
    "len(company)"
   ]
  },
  {
   "cell_type": "code",
   "execution_count": 421,
   "metadata": {},
   "outputs": [],
   "source": [
    "percent = pd.read_csv('C:/Users/James Jia/Desktop/HW3/labels/percentage.csv', encoding=\"latin-1\",header=None,names=['raw'])"
   ]
  },
  {
   "cell_type": "code",
   "execution_count": 422,
   "metadata": {},
   "outputs": [
    {
     "data": {
      "text/plain": [
       "3837"
      ]
     },
     "execution_count": 422,
     "metadata": {},
     "output_type": "execute_result"
    }
   ],
   "source": [
    "percent = percent.drop_duplicates()\n",
    "percent = percent.reset_index(drop=True)\n",
    "len(percent.raw)"
   ]
  },
  {
   "cell_type": "code",
   "execution_count": 423,
   "metadata": {},
   "outputs": [],
   "source": [
    "## Need to remove raw numbers (non-percentage) and replace %\n",
    "def replace_perc(row):\n",
    "    value = row['raw'].lower()\n",
    "    if (\"%\" not in value) and (\"perc\" not in value):\n",
    "        return \"X\"\n",
    "    \n",
    "    if \"%\" in value:\n",
    "        return row['raw'].replace(\"%\",\" %\")\n",
    "    \n",
    "    return row['raw']"
   ]
  },
  {
   "cell_type": "code",
   "execution_count": 424,
   "metadata": {},
   "outputs": [],
   "source": [
    "percent['name'] = percent.apply(replace_perc, axis=1)"
   ]
  },
  {
   "cell_type": "code",
   "execution_count": 425,
   "metadata": {},
   "outputs": [
    {
     "data": {
      "text/html": [
       "<div>\n",
       "<style scoped>\n",
       "    .dataframe tbody tr th:only-of-type {\n",
       "        vertical-align: middle;\n",
       "    }\n",
       "\n",
       "    .dataframe tbody tr th {\n",
       "        vertical-align: top;\n",
       "    }\n",
       "\n",
       "    .dataframe thead th {\n",
       "        text-align: right;\n",
       "    }\n",
       "</style>\n",
       "<table border=\"1\" class=\"dataframe\">\n",
       "  <thead>\n",
       "    <tr style=\"text-align: right;\">\n",
       "      <th></th>\n",
       "      <th>raw</th>\n",
       "      <th>name</th>\n",
       "    </tr>\n",
       "  </thead>\n",
       "  <tbody>\n",
       "    <tr>\n",
       "      <th>0</th>\n",
       "      <td>66%</td>\n",
       "      <td>66 %</td>\n",
       "    </tr>\n",
       "    <tr>\n",
       "      <th>1</th>\n",
       "      <td>40%</td>\n",
       "      <td>40 %</td>\n",
       "    </tr>\n",
       "    <tr>\n",
       "      <th>2</th>\n",
       "      <td>90%</td>\n",
       "      <td>90 %</td>\n",
       "    </tr>\n",
       "    <tr>\n",
       "      <th>3</th>\n",
       "      <td>49%</td>\n",
       "      <td>49 %</td>\n",
       "    </tr>\n",
       "    <tr>\n",
       "      <th>4</th>\n",
       "      <td>100%</td>\n",
       "      <td>100 %</td>\n",
       "    </tr>\n",
       "  </tbody>\n",
       "</table>\n",
       "</div>"
      ],
      "text/plain": [
       "    raw   name\n",
       "0   66%   66 %\n",
       "1   40%   40 %\n",
       "2   90%   90 %\n",
       "3   49%   49 %\n",
       "4  100%  100 %"
      ]
     },
     "execution_count": 425,
     "metadata": {},
     "output_type": "execute_result"
    }
   ],
   "source": [
    "percent = percent[percent['name'] != \"X\"]\n",
    "percent = percent.reset_index(drop=True)\n",
    "percent.head()"
   ]
  },
  {
   "cell_type": "code",
   "execution_count": 426,
   "metadata": {},
   "outputs": [
    {
     "data": {
      "text/plain": [
       "2368"
      ]
     },
     "execution_count": 426,
     "metadata": {},
     "output_type": "execute_result"
    }
   ],
   "source": [
    "percent = percent.drop(columns = ['raw'])\n",
    "len(percent.name)"
   ]
  },
  {
   "cell_type": "markdown",
   "metadata": {},
   "source": [
    "## Helper Functions"
   ]
  },
  {
   "cell_type": "code",
   "execution_count": 338,
   "metadata": {},
   "outputs": [],
   "source": [
    "## Helper function 1\n",
    "\n",
    "## function to locate the 1st position of an exact match\n",
    "def find_name_match(name, what_to_read):\n",
    "    name_arr = name.split()\n",
    "    lead = name_arr[0]\n",
    "    size = len(name_arr)\n",
    "    \n",
    "    txt_length = len(what_to_read)\n",
    "    \n",
    "    result = 0\n",
    "    locs = [i for i, element in enumerate(what_to_read) if element == lead]\n",
    "    \n",
    "    ## if doesn't exist, return\n",
    "    if (len(locs) == 0):\n",
    "        return result\n",
    "    \n",
    "    ## if it's 1-single value, return the first position\n",
    "    if (size == 1):\n",
    "        result = locs[0]\n",
    "        return result\n",
    "    \n",
    "    for loc in locs:\n",
    "        \n",
    "        ## out of bound check\n",
    "        if (size > txt_length - loc):\n",
    "            return result\n",
    "        \n",
    "        ## starting from first token --> last token\n",
    "        pos = 1\n",
    "        while (pos < size):\n",
    "            if (what_to_read[loc+pos] == name_arr[pos]):\n",
    "                pos = pos + 1\n",
    "            else:\n",
    "                break\n",
    "                \n",
    "        ## find an exaxt match:\n",
    "        if (pos == size):\n",
    "            result = loc\n",
    "            return result\n",
    "    \n",
    "    return result"
   ]
  },
  {
   "cell_type": "code",
   "execution_count": 182,
   "metadata": {},
   "outputs": [],
   "source": [
    "## Helper function 2\n",
    "\n",
    "## function to create the snippet\n",
    "def create_snippet(loc, what_to_read):\n",
    "    length = len(what_to_read)-1\n",
    "    \n",
    "    begin = loc - 7\n",
    "    end = loc + 8\n",
    "    \n",
    "    if begin < 0:\n",
    "        begin = 0\n",
    "    if end > length:\n",
    "        end = length\n",
    "        \n",
    "    arr_snippet = what_to_read[begin:end]\n",
    "    txt_snippet = ''\n",
    "    for token in arr_snippet:\n",
    "        txt_snippet = txt_snippet + \" \" + token\n",
    "    \n",
    "    return txt_snippet"
   ]
  },
  {
   "cell_type": "markdown",
   "metadata": {},
   "source": [
    "## PART I -- CEO"
   ]
  },
  {
   "cell_type": "code",
   "execution_count": 77,
   "metadata": {},
   "outputs": [
    {
     "name": "stdout",
     "output_type": "stream",
     "text": [
      "0\n",
      "500\n",
      "1000\n",
      "1500\n"
     ]
    }
   ],
   "source": [
    "## create snippet column in CEO\n",
    "ceo['snippet'] = ''\n",
    "\n",
    "for index, row in ceo.iterrows():\n",
    "    \n",
    "    ## status monitor\n",
    "    if (index % 500 == 0):\n",
    "        print(index)\n",
    "        \n",
    "    result = find_name_match(row['name'], text)\n",
    "    if (result != 0):\n",
    "        sni = create_snippet(result, text)\n",
    "        ceo.iat[index,2] = sni"
   ]
  },
  {
   "cell_type": "code",
   "execution_count": 78,
   "metadata": {},
   "outputs": [],
   "source": [
    "ceo = ceo.drop(columns=['len'])"
   ]
  },
  {
   "cell_type": "code",
   "execution_count": 79,
   "metadata": {},
   "outputs": [
    {
     "data": {
      "text/html": [
       "<div>\n",
       "<style scoped>\n",
       "    .dataframe tbody tr th:only-of-type {\n",
       "        vertical-align: middle;\n",
       "    }\n",
       "\n",
       "    .dataframe tbody tr th {\n",
       "        vertical-align: top;\n",
       "    }\n",
       "\n",
       "    .dataframe thead th {\n",
       "        text-align: right;\n",
       "    }\n",
       "</style>\n",
       "<table border=\"1\" class=\"dataframe\">\n",
       "  <thead>\n",
       "    <tr style=\"text-align: right;\">\n",
       "      <th></th>\n",
       "      <th>name</th>\n",
       "      <th>snippet</th>\n",
       "    </tr>\n",
       "  </thead>\n",
       "  <tbody>\n",
       "    <tr>\n",
       "      <th>0</th>\n",
       "      <td>Tom Horton</td>\n",
       "      <td>Airways CEO Doug Parker American 's CEO Tom H...</td>\n",
       "    </tr>\n",
       "    <tr>\n",
       "      <th>1</th>\n",
       "      <td>Patti Hart</td>\n",
       "      <td>laying course On February 1st IGT CEO Patti H...</td>\n",
       "    </tr>\n",
       "    <tr>\n",
       "      <th>2</th>\n",
       "      <td>Jamie Dimon</td>\n",
       "      <td>three come Wall Street The list start Jamie D...</td>\n",
       "    </tr>\n",
       "    <tr>\n",
       "      <th>3</th>\n",
       "      <td>Steve Cohen</td>\n",
       "      <td>'s chief investment office course move Facebo...</td>\n",
       "    </tr>\n",
       "    <tr>\n",
       "      <th>4</th>\n",
       "      <td>Tim Cook</td>\n",
       "      <td>: In press release announcing earnings CEO Ti...</td>\n",
       "    </tr>\n",
       "  </tbody>\n",
       "</table>\n",
       "</div>"
      ],
      "text/plain": [
       "          name                                            snippet\n",
       "0   Tom Horton   Airways CEO Doug Parker American 's CEO Tom H...\n",
       "1   Patti Hart   laying course On February 1st IGT CEO Patti H...\n",
       "2  Jamie Dimon   three come Wall Street The list start Jamie D...\n",
       "3  Steve Cohen   's chief investment office course move Facebo...\n",
       "4     Tim Cook   : In press release announcing earnings CEO Ti..."
      ]
     },
     "execution_count": 79,
     "metadata": {},
     "output_type": "execute_result"
    }
   ],
   "source": [
    "ceo.head()"
   ]
  },
  {
   "cell_type": "code",
   "execution_count": 80,
   "metadata": {},
   "outputs": [
    {
     "name": "stdout",
     "output_type": "stream",
     "text": [
      " Airways CEO Doug Parker American 's CEO Tom Horton serve chairman new company mid-2014 people\n",
      " lost job manufacturing industry said ADP 's Carlos Rodriguez Here 's break company size :\n",
      "\n",
      " pass Sony Pictures Entertainment Co-CEOs Michael Lynton Amy Pascal called executive responsible debacle Loeb add\n",
      " demand Cisco $ 46 billion cash CEO John Chambers say longer willing use acquire U.S.\n",
      " Press host held high-capacity magazine NRA CEO Wayne LaPierre 's appearance show last month On\n",
      " fiscal 2015 begin October year Coca-Cola CEO Muhtar Kent said call deal would give company\n",
      " beginning leave footprint wealth management sphere But John Rourke CEO NYC-based Gotham Tech Labs think\n",
      "\n",
      " demand That enterprise called BTC China CEO Bobby Lee hail Yahoo ! Walmart China Oh\n",
      " 2012 After giving away $ 28 billion Bill Gates longer third-richest man world He 's\n",
      " onto Iranian tanker He Tri-Ocean 's CEO Mohammed el-Ansary respond request Reuters review document seen\n",
      " year impress including top tech CEOs like Steve Ballmer entrepreneurial icon like Elon Musk empire\n",
      "\n",
      " big one go awayBernie Kerik Bernie Madoff Dennis Kozlowski Tyco guy $ 6000 shower curtain\n",
      "\n",
      " lieutenant Gary Ginsberg lieutenant Time Warner CEO Jeffrey Bewkes Ginsberg forced Murdoch 's inner circle\n",
      " joint lead clinical program NCI said CEO Arie Belldegrun M.D FACS Based substantial progress Kite\n",
      " three unit fastest growing Word Muglia work Juniper Networks ousted n't buy Ballmer 's vision\n",
      "\n",
      " Alcorn / Bloomberg via Getty ImagesDish CEO Charlie Ergen In surprise move satellite-TV operator Dish\n",
      " learn information taken truly sorry endure said Gregg Steinhafel chairman president chief executive officer Target\n",
      " negative impact market environment said Henkel CEO Kasper Rorsted earlier Tuesday Based Dusseldorf Henkel supply\n",
      " Thomson ReutersDesigner Frida Giannini chat Gucci CEO Patrizio Di Marco new Gucci flagship store opening\n",
      " truly transformational Metropolitan Museum Met director CEO Thomas Campbell said Although Met unique ability exhibit\n",
      " huge accelerating effort cure end-stage lung disease Martine Rothblatt chairman chief executive officer Silver Spring\n"
     ]
    }
   ],
   "source": [
    "## features exploration\n",
    "\n",
    "for index, row in ceo.iterrows():\n",
    "    if (index % 60 == 0):\n",
    "        print(row['snippet'])"
   ]
  },
  {
   "cell_type": "markdown",
   "metadata": {},
   "source": [
    "#### Creating Negative Samples"
   ]
  },
  {
   "cell_type": "code",
   "execution_count": 81,
   "metadata": {},
   "outputs": [],
   "source": [
    "politician = pd.read_csv('C:/Users/James Jia/Desktop/HW3/labels/politician.csv', header=None,names=['name'])"
   ]
  },
  {
   "cell_type": "code",
   "execution_count": 82,
   "metadata": {},
   "outputs": [
    {
     "data": {
      "text/html": [
       "<div>\n",
       "<style scoped>\n",
       "    .dataframe tbody tr th:only-of-type {\n",
       "        vertical-align: middle;\n",
       "    }\n",
       "\n",
       "    .dataframe tbody tr th {\n",
       "        vertical-align: top;\n",
       "    }\n",
       "\n",
       "    .dataframe thead th {\n",
       "        text-align: right;\n",
       "    }\n",
       "</style>\n",
       "<table border=\"1\" class=\"dataframe\">\n",
       "  <thead>\n",
       "    <tr style=\"text-align: right;\">\n",
       "      <th></th>\n",
       "      <th>name</th>\n",
       "    </tr>\n",
       "  </thead>\n",
       "  <tbody>\n",
       "    <tr>\n",
       "      <th>0</th>\n",
       "      <td>Alan Franken</td>\n",
       "    </tr>\n",
       "    <tr>\n",
       "      <th>1</th>\n",
       "      <td>Amy Klobuchar</td>\n",
       "    </tr>\n",
       "    <tr>\n",
       "      <th>2</th>\n",
       "      <td>Angus King</td>\n",
       "    </tr>\n",
       "  </tbody>\n",
       "</table>\n",
       "</div>"
      ],
      "text/plain": [
       "            name\n",
       "0   Alan Franken\n",
       "1  Amy Klobuchar\n",
       "2     Angus King"
      ]
     },
     "execution_count": 82,
     "metadata": {},
     "output_type": "execute_result"
    }
   ],
   "source": [
    "politician.head(3)"
   ]
  },
  {
   "cell_type": "code",
   "execution_count": 83,
   "metadata": {},
   "outputs": [],
   "source": [
    "politician['present'] = 0\n",
    "politician['snippet'] = ''\n",
    "\n",
    "for index, row in politician.iterrows():\n",
    "        \n",
    "    result = find_name_match(row['name'], text)\n",
    "    if (result != 0):\n",
    "        politician.iat[index,1] = result\n",
    "        sni = create_snippet(result, text)\n",
    "        politician.iat[index,2] = sni"
   ]
  },
  {
   "cell_type": "code",
   "execution_count": 84,
   "metadata": {},
   "outputs": [
    {
     "data": {
      "text/html": [
       "<div>\n",
       "<style scoped>\n",
       "    .dataframe tbody tr th:only-of-type {\n",
       "        vertical-align: middle;\n",
       "    }\n",
       "\n",
       "    .dataframe tbody tr th {\n",
       "        vertical-align: top;\n",
       "    }\n",
       "\n",
       "    .dataframe thead th {\n",
       "        text-align: right;\n",
       "    }\n",
       "</style>\n",
       "<table border=\"1\" class=\"dataframe\">\n",
       "  <thead>\n",
       "    <tr style=\"text-align: right;\">\n",
       "      <th></th>\n",
       "      <th>name</th>\n",
       "      <th>present</th>\n",
       "      <th>snippet</th>\n",
       "    </tr>\n",
       "  </thead>\n",
       "  <tbody>\n",
       "    <tr>\n",
       "      <th>0</th>\n",
       "      <td>Alan Franken</td>\n",
       "      <td>0</td>\n",
       "      <td></td>\n",
       "    </tr>\n",
       "    <tr>\n",
       "      <th>1</th>\n",
       "      <td>Amy Klobuchar</td>\n",
       "      <td>3341337</td>\n",
       "      <td>Independent Heidi Heitkamp D-N.D. Mark Pryor ...</td>\n",
       "    </tr>\n",
       "    <tr>\n",
       "      <th>2</th>\n",
       "      <td>Angus King</td>\n",
       "      <td>2296345</td>\n",
       "      <td>R-Ariz Washington Democrat Maria Cantwell Mai...</td>\n",
       "    </tr>\n",
       "    <tr>\n",
       "      <th>3</th>\n",
       "      <td>Barbara Mikulski</td>\n",
       "      <td>771540</td>\n",
       "      <td>across board In letter Senate Appropriations ...</td>\n",
       "    </tr>\n",
       "    <tr>\n",
       "      <th>4</th>\n",
       "      <td>Barbara Boxer</td>\n",
       "      <td>343007</td>\n",
       "      <td>n't announced 'll run re-election yet Senator...</td>\n",
       "    </tr>\n",
       "    <tr>\n",
       "      <th>5</th>\n",
       "      <td>Benjamin Cardin</td>\n",
       "      <td>0</td>\n",
       "      <td></td>\n",
       "    </tr>\n",
       "    <tr>\n",
       "      <th>6</th>\n",
       "      <td>Bernard Sanders</td>\n",
       "      <td>0</td>\n",
       "      <td></td>\n",
       "    </tr>\n",
       "    <tr>\n",
       "      <th>7</th>\n",
       "      <td>Bill Nelson</td>\n",
       "      <td>3658715</td>\n",
       "      <td>Department five Senators — Elizabeth Warren D...</td>\n",
       "    </tr>\n",
       "    <tr>\n",
       "      <th>8</th>\n",
       "      <td>Bob Corker</td>\n",
       "      <td>434747</td>\n",
       "      <td>new friend across aisle Senate : Sen. Bob Cor...</td>\n",
       "    </tr>\n",
       "    <tr>\n",
       "      <th>9</th>\n",
       "      <td>Brian Schatz</td>\n",
       "      <td>0</td>\n",
       "      <td></td>\n",
       "    </tr>\n",
       "  </tbody>\n",
       "</table>\n",
       "</div>"
      ],
      "text/plain": [
       "               name  present  \\\n",
       "0      Alan Franken        0   \n",
       "1     Amy Klobuchar  3341337   \n",
       "2        Angus King  2296345   \n",
       "3  Barbara Mikulski   771540   \n",
       "4     Barbara Boxer   343007   \n",
       "5   Benjamin Cardin        0   \n",
       "6   Bernard Sanders        0   \n",
       "7       Bill Nelson  3658715   \n",
       "8        Bob Corker   434747   \n",
       "9      Brian Schatz        0   \n",
       "\n",
       "                                             snippet  \n",
       "0                                                     \n",
       "1   Independent Heidi Heitkamp D-N.D. Mark Pryor ...  \n",
       "2   R-Ariz Washington Democrat Maria Cantwell Mai...  \n",
       "3   across board In letter Senate Appropriations ...  \n",
       "4   n't announced 'll run re-election yet Senator...  \n",
       "5                                                     \n",
       "6                                                     \n",
       "7   Department five Senators — Elizabeth Warren D...  \n",
       "8   new friend across aisle Senate : Sen. Bob Cor...  \n",
       "9                                                     "
      ]
     },
     "execution_count": 84,
     "metadata": {},
     "output_type": "execute_result"
    }
   ],
   "source": [
    "politician.head(10)"
   ]
  },
  {
   "cell_type": "code",
   "execution_count": 88,
   "metadata": {},
   "outputs": [
    {
     "data": {
      "text/plain": [
       "724"
      ]
     },
     "execution_count": 88,
     "metadata": {},
     "output_type": "execute_result"
    }
   ],
   "source": [
    "len(politician.name)"
   ]
  },
  {
   "cell_type": "code",
   "execution_count": 91,
   "metadata": {},
   "outputs": [],
   "source": [
    "## remove ones not present\n",
    "politician = politician[politician['present'] != 0]\n",
    "politician = politician.reset_index(drop=True)"
   ]
  },
  {
   "cell_type": "code",
   "execution_count": 92,
   "metadata": {},
   "outputs": [
    {
     "data": {
      "text/html": [
       "<div>\n",
       "<style scoped>\n",
       "    .dataframe tbody tr th:only-of-type {\n",
       "        vertical-align: middle;\n",
       "    }\n",
       "\n",
       "    .dataframe tbody tr th {\n",
       "        vertical-align: top;\n",
       "    }\n",
       "\n",
       "    .dataframe thead th {\n",
       "        text-align: right;\n",
       "    }\n",
       "</style>\n",
       "<table border=\"1\" class=\"dataframe\">\n",
       "  <thead>\n",
       "    <tr style=\"text-align: right;\">\n",
       "      <th></th>\n",
       "      <th>name</th>\n",
       "      <th>present</th>\n",
       "      <th>snippet</th>\n",
       "    </tr>\n",
       "  </thead>\n",
       "  <tbody>\n",
       "    <tr>\n",
       "      <th>0</th>\n",
       "      <td>Amy Klobuchar</td>\n",
       "      <td>3341337</td>\n",
       "      <td>Independent Heidi Heitkamp D-N.D. Mark Pryor ...</td>\n",
       "    </tr>\n",
       "    <tr>\n",
       "      <th>1</th>\n",
       "      <td>Angus King</td>\n",
       "      <td>2296345</td>\n",
       "      <td>R-Ariz Washington Democrat Maria Cantwell Mai...</td>\n",
       "    </tr>\n",
       "    <tr>\n",
       "      <th>2</th>\n",
       "      <td>Barbara Mikulski</td>\n",
       "      <td>771540</td>\n",
       "      <td>across board In letter Senate Appropriations ...</td>\n",
       "    </tr>\n",
       "    <tr>\n",
       "      <th>3</th>\n",
       "      <td>Barbara Boxer</td>\n",
       "      <td>343007</td>\n",
       "      <td>n't announced 'll run re-election yet Senator...</td>\n",
       "    </tr>\n",
       "    <tr>\n",
       "      <th>4</th>\n",
       "      <td>Bill Nelson</td>\n",
       "      <td>3658715</td>\n",
       "      <td>Department five Senators — Elizabeth Warren D...</td>\n",
       "    </tr>\n",
       "    <tr>\n",
       "      <th>...</th>\n",
       "      <td>...</td>\n",
       "      <td>...</td>\n",
       "      <td>...</td>\n",
       "    </tr>\n",
       "    <tr>\n",
       "      <th>258</th>\n",
       "      <td>Najib Razak</td>\n",
       "      <td>3208565</td>\n",
       "      <td>Filipino-Americans enriched country And Malay...</td>\n",
       "    </tr>\n",
       "    <tr>\n",
       "      <th>259</th>\n",
       "      <td>Mark Rutte</td>\n",
       "      <td>1801770</td>\n",
       "      <td>speak ” said And Dutch Prime Minister Mark Ru...</td>\n",
       "    </tr>\n",
       "    <tr>\n",
       "      <th>260</th>\n",
       "      <td>Lee Hsien Loong</td>\n",
       "      <td>4132580</td>\n",
       "      <td>peaceful worker belligerent mob The prime min...</td>\n",
       "    </tr>\n",
       "    <tr>\n",
       "      <th>261</th>\n",
       "      <td>Mariano Rajoy</td>\n",
       "      <td>465394</td>\n",
       "      <td>; @ daraconn2A photoshopped image Spanish PM ...</td>\n",
       "    </tr>\n",
       "    <tr>\n",
       "      <th>262</th>\n",
       "      <td>Theresa May</td>\n",
       "      <td>7603735</td>\n",
       "      <td>intelligence suggests attack imminent British...</td>\n",
       "    </tr>\n",
       "  </tbody>\n",
       "</table>\n",
       "<p>263 rows × 3 columns</p>\n",
       "</div>"
      ],
      "text/plain": [
       "                 name  present  \\\n",
       "0       Amy Klobuchar  3341337   \n",
       "1          Angus King  2296345   \n",
       "2    Barbara Mikulski   771540   \n",
       "3       Barbara Boxer   343007   \n",
       "4         Bill Nelson  3658715   \n",
       "..                ...      ...   \n",
       "258       Najib Razak  3208565   \n",
       "259        Mark Rutte  1801770   \n",
       "260   Lee Hsien Loong  4132580   \n",
       "261     Mariano Rajoy   465394   \n",
       "262       Theresa May  7603735   \n",
       "\n",
       "                                               snippet  \n",
       "0     Independent Heidi Heitkamp D-N.D. Mark Pryor ...  \n",
       "1     R-Ariz Washington Democrat Maria Cantwell Mai...  \n",
       "2     across board In letter Senate Appropriations ...  \n",
       "3     n't announced 'll run re-election yet Senator...  \n",
       "4     Department five Senators — Elizabeth Warren D...  \n",
       "..                                                 ...  \n",
       "258   Filipino-Americans enriched country And Malay...  \n",
       "259   speak ” said And Dutch Prime Minister Mark Ru...  \n",
       "260   peaceful worker belligerent mob The prime min...  \n",
       "261   ; @ daraconn2A photoshopped image Spanish PM ...  \n",
       "262   intelligence suggests attack imminent British...  \n",
       "\n",
       "[263 rows x 3 columns]"
      ]
     },
     "execution_count": 92,
     "metadata": {},
     "output_type": "execute_result"
    }
   ],
   "source": [
    "politician"
   ]
  },
  {
   "cell_type": "code",
   "execution_count": 93,
   "metadata": {},
   "outputs": [
    {
     "name": "stdout",
     "output_type": "stream",
     "text": [
      " Independent Heidi Heitkamp D-N.D. Mark Pryor D-Ark Amy Klobuchar D-Minn. Angus King I-Maine Joe Donnelly\n",
      " — Elizabeth Warren D-MA Bill Nelson D-FL Martin Heinrich D-NM Sheldon Whitehouse D-RI — urging\n",
      " cover Five Easy Pieces united first time Chris Collins executive editor Asia becomes Senior Executive\n",
      " Gregory Meyer Jamie Smyth report InTrade founder John Delaney failed adequately report $ 2.6 million\n",
      " headline swallow Breaking : Leaving mtg Rep. Spencer Bachus say deal go back Senate There\n",
      " opposition protest since Oct. 26 Prime Minister Sheikh Hasina want form all-party caretaker government hold\n"
     ]
    }
   ],
   "source": [
    "## features exploration\n",
    "\n",
    "for index, row in politician.iterrows():\n",
    "    if (index % 50 == 0):\n",
    "        print(row['snippet'])"
   ]
  },
  {
   "cell_type": "code",
   "execution_count": 94,
   "metadata": {},
   "outputs": [],
   "source": [
    "politician = politician.drop(columns=['present'])"
   ]
  },
  {
   "cell_type": "code",
   "execution_count": 97,
   "metadata": {},
   "outputs": [],
   "source": [
    "ceo['label'] = 1\n",
    "politician['label'] = 0"
   ]
  },
  {
   "cell_type": "code",
   "execution_count": 102,
   "metadata": {},
   "outputs": [
    {
     "data": {
      "text/plain": [
       "676"
      ]
     },
     "execution_count": 102,
     "metadata": {},
     "output_type": "execute_result"
    }
   ],
   "source": [
    "## Economists / doctors\n",
    "economist_loc = [i for i, element in enumerate(text) if element == \"Dr.\"]\n",
    "len(economist_loc)"
   ]
  },
  {
   "cell_type": "code",
   "execution_count": 107,
   "metadata": {},
   "outputs": [],
   "source": [
    "dr = pd.DataFrame(economist_loc,columns=[\"name\"])\n",
    "\n",
    "dr['snippet'] = ''\n",
    "\n",
    "for index, row in dr.iterrows():\n",
    "    \n",
    "    sni = create_snippet(row['name'], text)\n",
    "    dr.iat[index,1] = sni"
   ]
  },
  {
   "cell_type": "code",
   "execution_count": 112,
   "metadata": {},
   "outputs": [
    {
     "data": {
      "text/plain": [
       "' rising cost care In JAMA Internal Medicine Dr. Allan Prochazka Dr. Tanner Caverly write General'"
      ]
     },
     "execution_count": 112,
     "metadata": {},
     "output_type": "execute_result"
    }
   ],
   "source": [
    "dr.iloc[15,1]"
   ]
  },
  {
   "cell_type": "code",
   "execution_count": 117,
   "metadata": {},
   "outputs": [],
   "source": [
    "dr['label'] = 0\n",
    "dr = dr.drop(columns=['name'])"
   ]
  },
  {
   "cell_type": "code",
   "execution_count": 129,
   "metadata": {},
   "outputs": [
    {
     "data": {
      "text/plain": [
       "647"
      ]
     },
     "execution_count": 129,
     "metadata": {},
     "output_type": "execute_result"
    }
   ],
   "source": [
    "## editors\n",
    "editor_loc = [i for i, element in enumerate(text) if (element == \"editor\") or (element == \"Editor\")]\n",
    "len(editor_loc)"
   ]
  },
  {
   "cell_type": "code",
   "execution_count": 130,
   "metadata": {},
   "outputs": [
    {
     "data": {
      "text/html": [
       "<div>\n",
       "<style scoped>\n",
       "    .dataframe tbody tr th:only-of-type {\n",
       "        vertical-align: middle;\n",
       "    }\n",
       "\n",
       "    .dataframe tbody tr th {\n",
       "        vertical-align: top;\n",
       "    }\n",
       "\n",
       "    .dataframe thead th {\n",
       "        text-align: right;\n",
       "    }\n",
       "</style>\n",
       "<table border=\"1\" class=\"dataframe\">\n",
       "  <thead>\n",
       "    <tr style=\"text-align: right;\">\n",
       "      <th></th>\n",
       "      <th>snippet</th>\n",
       "      <th>label</th>\n",
       "    </tr>\n",
       "  </thead>\n",
       "  <tbody>\n",
       "    <tr>\n",
       "      <th>0</th>\n",
       "      <td>player country almost investor Business Insid...</td>\n",
       "      <td>0</td>\n",
       "    </tr>\n",
       "    <tr>\n",
       "      <th>1</th>\n",
       "      <td>Haigh Sydney ahaigh1 @ bloomberg.net To conta...</td>\n",
       "      <td>0</td>\n",
       "    </tr>\n",
       "    <tr>\n",
       "      <th>2</th>\n",
       "      <td>Time Warner deprived New York watching BI edi...</td>\n",
       "      <td>0</td>\n",
       "    </tr>\n",
       "  </tbody>\n",
       "</table>\n",
       "</div>"
      ],
      "text/plain": [
       "                                             snippet  label\n",
       "0   player country almost investor Business Insid...      0\n",
       "1   Haigh Sydney ahaigh1 @ bloomberg.net To conta...      0\n",
       "2   Time Warner deprived New York watching BI edi...      0"
      ]
     },
     "execution_count": 130,
     "metadata": {},
     "output_type": "execute_result"
    }
   ],
   "source": [
    "editor = pd.DataFrame(editor_loc,columns=[\"name\"])\n",
    "\n",
    "editor['snippet'] = ''\n",
    "\n",
    "for index, row in editor.iterrows():\n",
    "    \n",
    "    sni = create_snippet(row['name'], text)\n",
    "    editor.iat[index,1] = sni\n",
    "\n",
    "editor['label'] = 0\n",
    "editor = editor.drop(columns=['name'])\n",
    "editor.head(3)"
   ]
  },
  {
   "cell_type": "code",
   "execution_count": 138,
   "metadata": {},
   "outputs": [
    {
     "data": {
      "text/plain": [
       "\" dramatic report : Faisal Islam — economics editor U.K. 's Channel 4 — report 's\""
      ]
     },
     "execution_count": 138,
     "metadata": {},
     "output_type": "execute_result"
    }
   ],
   "source": [
    "editor.iloc[60,0]"
   ]
  },
  {
   "cell_type": "code",
   "execution_count": 139,
   "metadata": {},
   "outputs": [],
   "source": [
    "ceo = ceo.drop(columns=['name'])\n",
    "politician = politician.drop(columns=['name'])"
   ]
  },
  {
   "cell_type": "code",
   "execution_count": 148,
   "metadata": {},
   "outputs": [],
   "source": [
    "## Combining to 1 training dataframe\n",
    "training_data = pd.concat([ceo, politician, dr, editor])"
   ]
  },
  {
   "cell_type": "code",
   "execution_count": 150,
   "metadata": {},
   "outputs": [
    {
     "data": {
      "text/plain": [
       "3118"
      ]
     },
     "execution_count": 150,
     "metadata": {},
     "output_type": "execute_result"
    }
   ],
   "source": [
    "len(training_data.snippet)"
   ]
  },
  {
   "cell_type": "markdown",
   "metadata": {},
   "source": [
    "#### Creating features"
   ]
  },
  {
   "cell_type": "code",
   "execution_count": 151,
   "metadata": {},
   "outputs": [],
   "source": [
    "## Features:\n",
    "\n",
    "## f1 : contain the word \"ceo\" or \"CEO\"\n",
    "def ceo_f1(row):\n",
    "    snippet = row['snippet']\n",
    "    result = re.findall(r'[Cc][Ee][Oo]', snippet)\n",
    "    length = len(result)\n",
    "    if length >= 1:\n",
    "        return 1\n",
    "    else:\n",
    "        return 0\n",
    "\n",
    "## f2 : contain the word \"executive\"\n",
    "def ceo_f2(row):\n",
    "    snippet = row['snippet']\n",
    "    result = re.findall(r'[Ee]xecutive', snippet)\n",
    "    length = len(result)\n",
    "    if length >= 1:\n",
    "        return 1\n",
    "    else:\n",
    "        return 0\n",
    "    \n",
    "## f3 : contain the word \"lead\"\n",
    "def ceo_f3(row):\n",
    "    snippet = row['snippet']\n",
    "    result = re.findall(r'[Ll]ead', snippet)\n",
    "    length = len(result)\n",
    "    if length >= 1:\n",
    "        return 1\n",
    "    else:\n",
    "        return 0\n",
    "    \n",
    "## f4 : contain the word \"said\"\n",
    "def ceo_f4(row):\n",
    "    snippet = row['snippet']\n",
    "    result = re.findall(r'[Ss]aid', snippet)\n",
    "    length = len(result)\n",
    "    if length >= 1:\n",
    "        return 1\n",
    "    else:\n",
    "        return 0\n",
    "\n",
    "## f5 : contain the \"$\" symbol\n",
    "def ceo_f5(row):\n",
    "    snippet = row['snippet']\n",
    "    result = re.findall(r'\\$', snippet)\n",
    "    length = len(result)\n",
    "    if length >= 1:\n",
    "        return 1\n",
    "    else:\n",
    "        return 0\n",
    "    \n",
    "## f6 : contain the \"'s'\" snippet\n",
    "def ceo_f6(row):\n",
    "    snippet = row['snippet']\n",
    "    result = re.findall(r'\\'s', snippet)\n",
    "    length = len(result)\n",
    "    if length >= 1:\n",
    "        return 1\n",
    "    else:\n",
    "        return 0"
   ]
  },
  {
   "cell_type": "code",
   "execution_count": 152,
   "metadata": {},
   "outputs": [
    {
     "data": {
      "text/html": [
       "<div>\n",
       "<style scoped>\n",
       "    .dataframe tbody tr th:only-of-type {\n",
       "        vertical-align: middle;\n",
       "    }\n",
       "\n",
       "    .dataframe tbody tr th {\n",
       "        vertical-align: top;\n",
       "    }\n",
       "\n",
       "    .dataframe thead th {\n",
       "        text-align: right;\n",
       "    }\n",
       "</style>\n",
       "<table border=\"1\" class=\"dataframe\">\n",
       "  <thead>\n",
       "    <tr style=\"text-align: right;\">\n",
       "      <th></th>\n",
       "      <th>snippet</th>\n",
       "      <th>label</th>\n",
       "      <th>f1</th>\n",
       "      <th>f2</th>\n",
       "      <th>f3</th>\n",
       "      <th>f4</th>\n",
       "      <th>f5</th>\n",
       "      <th>f6</th>\n",
       "    </tr>\n",
       "  </thead>\n",
       "  <tbody>\n",
       "    <tr>\n",
       "      <th>0</th>\n",
       "      <td>Airways CEO Doug Parker American 's CEO Tom H...</td>\n",
       "      <td>1</td>\n",
       "      <td>0</td>\n",
       "      <td>0</td>\n",
       "      <td>0</td>\n",
       "      <td>0</td>\n",
       "      <td>0</td>\n",
       "      <td>0</td>\n",
       "    </tr>\n",
       "    <tr>\n",
       "      <th>1</th>\n",
       "      <td>laying course On February 1st IGT CEO Patti H...</td>\n",
       "      <td>1</td>\n",
       "      <td>0</td>\n",
       "      <td>0</td>\n",
       "      <td>0</td>\n",
       "      <td>0</td>\n",
       "      <td>0</td>\n",
       "      <td>0</td>\n",
       "    </tr>\n",
       "    <tr>\n",
       "      <th>2</th>\n",
       "      <td>three come Wall Street The list start Jamie D...</td>\n",
       "      <td>1</td>\n",
       "      <td>0</td>\n",
       "      <td>0</td>\n",
       "      <td>0</td>\n",
       "      <td>0</td>\n",
       "      <td>0</td>\n",
       "      <td>0</td>\n",
       "    </tr>\n",
       "    <tr>\n",
       "      <th>3</th>\n",
       "      <td>'s chief investment office course move Facebo...</td>\n",
       "      <td>1</td>\n",
       "      <td>0</td>\n",
       "      <td>0</td>\n",
       "      <td>0</td>\n",
       "      <td>0</td>\n",
       "      <td>0</td>\n",
       "      <td>0</td>\n",
       "    </tr>\n",
       "    <tr>\n",
       "      <th>4</th>\n",
       "      <td>: In press release announcing earnings CEO Ti...</td>\n",
       "      <td>1</td>\n",
       "      <td>0</td>\n",
       "      <td>0</td>\n",
       "      <td>0</td>\n",
       "      <td>0</td>\n",
       "      <td>0</td>\n",
       "      <td>0</td>\n",
       "    </tr>\n",
       "    <tr>\n",
       "      <th>...</th>\n",
       "      <td>...</td>\n",
       "      <td>...</td>\n",
       "      <td>...</td>\n",
       "      <td>...</td>\n",
       "      <td>...</td>\n",
       "      <td>...</td>\n",
       "      <td>...</td>\n",
       "      <td>...</td>\n",
       "    </tr>\n",
       "    <tr>\n",
       "      <th>642</th>\n",
       "      <td>go Also feel free shoot email deputy editor S...</td>\n",
       "      <td>0</td>\n",
       "      <td>0</td>\n",
       "      <td>0</td>\n",
       "      <td>0</td>\n",
       "      <td>0</td>\n",
       "      <td>0</td>\n",
       "      <td>0</td>\n",
       "    </tr>\n",
       "    <tr>\n",
       "      <th>643</th>\n",
       "      <td>interested Facebook 's app recommendation App...</td>\n",
       "      <td>0</td>\n",
       "      <td>0</td>\n",
       "      <td>0</td>\n",
       "      <td>0</td>\n",
       "      <td>0</td>\n",
       "      <td>0</td>\n",
       "      <td>0</td>\n",
       "    </tr>\n",
       "    <tr>\n",
       "      <th>644</th>\n",
       "      <td>CNN Nick Trend Telegraph Travel 's consumer e...</td>\n",
       "      <td>0</td>\n",
       "      <td>0</td>\n",
       "      <td>0</td>\n",
       "      <td>0</td>\n",
       "      <td>0</td>\n",
       "      <td>0</td>\n",
       "      <td>0</td>\n",
       "    </tr>\n",
       "    <tr>\n",
       "      <th>645</th>\n",
       "      <td>&amp; amp ; Country magazine 's associate editor ...</td>\n",
       "      <td>0</td>\n",
       "      <td>0</td>\n",
       "      <td>0</td>\n",
       "      <td>0</td>\n",
       "      <td>0</td>\n",
       "      <td>0</td>\n",
       "      <td>0</td>\n",
       "    </tr>\n",
       "    <tr>\n",
       "      <th>646</th>\n",
       "      <td>market story broke unbelievable check recheck...</td>\n",
       "      <td>0</td>\n",
       "      <td>0</td>\n",
       "      <td>0</td>\n",
       "      <td>0</td>\n",
       "      <td>0</td>\n",
       "      <td>0</td>\n",
       "      <td>0</td>\n",
       "    </tr>\n",
       "  </tbody>\n",
       "</table>\n",
       "<p>3118 rows × 8 columns</p>\n",
       "</div>"
      ],
      "text/plain": [
       "                                               snippet  label  f1  f2  f3  f4  \\\n",
       "0     Airways CEO Doug Parker American 's CEO Tom H...      1   0   0   0   0   \n",
       "1     laying course On February 1st IGT CEO Patti H...      1   0   0   0   0   \n",
       "2     three come Wall Street The list start Jamie D...      1   0   0   0   0   \n",
       "3     's chief investment office course move Facebo...      1   0   0   0   0   \n",
       "4     : In press release announcing earnings CEO Ti...      1   0   0   0   0   \n",
       "..                                                 ...    ...  ..  ..  ..  ..   \n",
       "642   go Also feel free shoot email deputy editor S...      0   0   0   0   0   \n",
       "643   interested Facebook 's app recommendation App...      0   0   0   0   0   \n",
       "644   CNN Nick Trend Telegraph Travel 's consumer e...      0   0   0   0   0   \n",
       "645   & amp ; Country magazine 's associate editor ...      0   0   0   0   0   \n",
       "646   market story broke unbelievable check recheck...      0   0   0   0   0   \n",
       "\n",
       "     f5  f6  \n",
       "0     0   0  \n",
       "1     0   0  \n",
       "2     0   0  \n",
       "3     0   0  \n",
       "4     0   0  \n",
       "..   ..  ..  \n",
       "642   0   0  \n",
       "643   0   0  \n",
       "644   0   0  \n",
       "645   0   0  \n",
       "646   0   0  \n",
       "\n",
       "[3118 rows x 8 columns]"
      ]
     },
     "execution_count": 152,
     "metadata": {},
     "output_type": "execute_result"
    }
   ],
   "source": [
    "training_data"
   ]
  },
  {
   "cell_type": "code",
   "execution_count": 155,
   "metadata": {},
   "outputs": [],
   "source": [
    "training_data['f1'] = training_data.apply(ceo_f1, axis=1)\n",
    "training_data['f2'] = training_data.apply(ceo_f2, axis=1)\n",
    "training_data['f3'] = training_data.apply(ceo_f3, axis=1)\n",
    "training_data['f4'] = training_data.apply(ceo_f4, axis=1)\n",
    "training_data['f5'] = training_data.apply(ceo_f5, axis=1)\n",
    "training_data['f6'] = training_data.apply(ceo_f6, axis=1)"
   ]
  },
  {
   "cell_type": "code",
   "execution_count": 156,
   "metadata": {},
   "outputs": [
    {
     "data": {
      "text/html": [
       "<div>\n",
       "<style scoped>\n",
       "    .dataframe tbody tr th:only-of-type {\n",
       "        vertical-align: middle;\n",
       "    }\n",
       "\n",
       "    .dataframe tbody tr th {\n",
       "        vertical-align: top;\n",
       "    }\n",
       "\n",
       "    .dataframe thead th {\n",
       "        text-align: right;\n",
       "    }\n",
       "</style>\n",
       "<table border=\"1\" class=\"dataframe\">\n",
       "  <thead>\n",
       "    <tr style=\"text-align: right;\">\n",
       "      <th></th>\n",
       "      <th>snippet</th>\n",
       "      <th>label</th>\n",
       "      <th>f1</th>\n",
       "      <th>f2</th>\n",
       "      <th>f3</th>\n",
       "      <th>f4</th>\n",
       "      <th>f5</th>\n",
       "      <th>f6</th>\n",
       "    </tr>\n",
       "  </thead>\n",
       "  <tbody>\n",
       "    <tr>\n",
       "      <th>0</th>\n",
       "      <td>Airways CEO Doug Parker American 's CEO Tom H...</td>\n",
       "      <td>1</td>\n",
       "      <td>1</td>\n",
       "      <td>0</td>\n",
       "      <td>0</td>\n",
       "      <td>0</td>\n",
       "      <td>0</td>\n",
       "      <td>1</td>\n",
       "    </tr>\n",
       "    <tr>\n",
       "      <th>1</th>\n",
       "      <td>laying course On February 1st IGT CEO Patti H...</td>\n",
       "      <td>1</td>\n",
       "      <td>1</td>\n",
       "      <td>0</td>\n",
       "      <td>0</td>\n",
       "      <td>0</td>\n",
       "      <td>0</td>\n",
       "      <td>0</td>\n",
       "    </tr>\n",
       "    <tr>\n",
       "      <th>2</th>\n",
       "      <td>three come Wall Street The list start Jamie D...</td>\n",
       "      <td>1</td>\n",
       "      <td>0</td>\n",
       "      <td>0</td>\n",
       "      <td>0</td>\n",
       "      <td>0</td>\n",
       "      <td>1</td>\n",
       "      <td>0</td>\n",
       "    </tr>\n",
       "    <tr>\n",
       "      <th>3</th>\n",
       "      <td>'s chief investment office course move Facebo...</td>\n",
       "      <td>1</td>\n",
       "      <td>0</td>\n",
       "      <td>0</td>\n",
       "      <td>0</td>\n",
       "      <td>0</td>\n",
       "      <td>0</td>\n",
       "      <td>1</td>\n",
       "    </tr>\n",
       "    <tr>\n",
       "      <th>4</th>\n",
       "      <td>: In press release announcing earnings CEO Ti...</td>\n",
       "      <td>1</td>\n",
       "      <td>1</td>\n",
       "      <td>0</td>\n",
       "      <td>0</td>\n",
       "      <td>1</td>\n",
       "      <td>0</td>\n",
       "      <td>0</td>\n",
       "    </tr>\n",
       "    <tr>\n",
       "      <th>...</th>\n",
       "      <td>...</td>\n",
       "      <td>...</td>\n",
       "      <td>...</td>\n",
       "      <td>...</td>\n",
       "      <td>...</td>\n",
       "      <td>...</td>\n",
       "      <td>...</td>\n",
       "      <td>...</td>\n",
       "    </tr>\n",
       "    <tr>\n",
       "      <th>642</th>\n",
       "      <td>go Also feel free shoot email deputy editor S...</td>\n",
       "      <td>0</td>\n",
       "      <td>0</td>\n",
       "      <td>0</td>\n",
       "      <td>0</td>\n",
       "      <td>0</td>\n",
       "      <td>0</td>\n",
       "      <td>0</td>\n",
       "    </tr>\n",
       "    <tr>\n",
       "      <th>643</th>\n",
       "      <td>interested Facebook 's app recommendation App...</td>\n",
       "      <td>0</td>\n",
       "      <td>0</td>\n",
       "      <td>0</td>\n",
       "      <td>0</td>\n",
       "      <td>0</td>\n",
       "      <td>0</td>\n",
       "      <td>1</td>\n",
       "    </tr>\n",
       "    <tr>\n",
       "      <th>644</th>\n",
       "      <td>CNN Nick Trend Telegraph Travel 's consumer e...</td>\n",
       "      <td>0</td>\n",
       "      <td>0</td>\n",
       "      <td>0</td>\n",
       "      <td>0</td>\n",
       "      <td>1</td>\n",
       "      <td>0</td>\n",
       "      <td>1</td>\n",
       "    </tr>\n",
       "    <tr>\n",
       "      <th>645</th>\n",
       "      <td>&amp; amp ; Country magazine 's associate editor ...</td>\n",
       "      <td>0</td>\n",
       "      <td>0</td>\n",
       "      <td>0</td>\n",
       "      <td>0</td>\n",
       "      <td>0</td>\n",
       "      <td>0</td>\n",
       "      <td>1</td>\n",
       "    </tr>\n",
       "    <tr>\n",
       "      <th>646</th>\n",
       "      <td>market story broke unbelievable check recheck...</td>\n",
       "      <td>0</td>\n",
       "      <td>0</td>\n",
       "      <td>0</td>\n",
       "      <td>0</td>\n",
       "      <td>0</td>\n",
       "      <td>0</td>\n",
       "      <td>0</td>\n",
       "    </tr>\n",
       "  </tbody>\n",
       "</table>\n",
       "<p>3118 rows × 8 columns</p>\n",
       "</div>"
      ],
      "text/plain": [
       "                                               snippet  label  f1  f2  f3  f4  \\\n",
       "0     Airways CEO Doug Parker American 's CEO Tom H...      1   1   0   0   0   \n",
       "1     laying course On February 1st IGT CEO Patti H...      1   1   0   0   0   \n",
       "2     three come Wall Street The list start Jamie D...      1   0   0   0   0   \n",
       "3     's chief investment office course move Facebo...      1   0   0   0   0   \n",
       "4     : In press release announcing earnings CEO Ti...      1   1   0   0   1   \n",
       "..                                                 ...    ...  ..  ..  ..  ..   \n",
       "642   go Also feel free shoot email deputy editor S...      0   0   0   0   0   \n",
       "643   interested Facebook 's app recommendation App...      0   0   0   0   0   \n",
       "644   CNN Nick Trend Telegraph Travel 's consumer e...      0   0   0   0   1   \n",
       "645   & amp ; Country magazine 's associate editor ...      0   0   0   0   0   \n",
       "646   market story broke unbelievable check recheck...      0   0   0   0   0   \n",
       "\n",
       "     f5  f6  \n",
       "0     0   1  \n",
       "1     0   0  \n",
       "2     1   0  \n",
       "3     0   1  \n",
       "4     0   0  \n",
       "..   ..  ..  \n",
       "642   0   0  \n",
       "643   0   1  \n",
       "644   0   1  \n",
       "645   0   1  \n",
       "646   0   0  \n",
       "\n",
       "[3118 rows x 8 columns]"
      ]
     },
     "execution_count": 156,
     "metadata": {},
     "output_type": "execute_result"
    }
   ],
   "source": [
    "training_data"
   ]
  },
  {
   "cell_type": "markdown",
   "metadata": {},
   "source": [
    "#### Train Logit Model"
   ]
  },
  {
   "cell_type": "code",
   "execution_count": 157,
   "metadata": {},
   "outputs": [],
   "source": [
    "import pandas as pd\n",
    "from sklearn.model_selection import train_test_split\n",
    "from sklearn.linear_model import LogisticRegression\n",
    "from sklearn import metrics\n",
    "import seaborn as sn\n",
    "import matplotlib.pyplot as plt"
   ]
  },
  {
   "cell_type": "code",
   "execution_count": 158,
   "metadata": {},
   "outputs": [],
   "source": [
    "X = training_data[['f1','f2','f3','f4','f5','f6']]\n",
    "Y = training_data[['label']]"
   ]
  },
  {
   "cell_type": "code",
   "execution_count": 168,
   "metadata": {},
   "outputs": [],
   "source": [
    "X_train, X_test, Y_train, Y_test = train_test_split(X,Y,train_size = 0.9)"
   ]
  },
  {
   "cell_type": "code",
   "execution_count": 170,
   "metadata": {},
   "outputs": [],
   "source": [
    "ceo_logit = LogisticRegression()\n",
    "ceo_logit.fit(X_train, Y_train.values.ravel())\n",
    "Y_pred = ceo_logit.predict(X_test)"
   ]
  },
  {
   "cell_type": "code",
   "execution_count": 178,
   "metadata": {},
   "outputs": [
    {
     "data": {
      "text/plain": [
       "<matplotlib.axes._subplots.AxesSubplot at 0x2280ef97088>"
      ]
     },
     "execution_count": 178,
     "metadata": {},
     "output_type": "execute_result"
    },
    {
     "data": {
      "image/png": "[encoded data removed]",
      "text/plain": [
       "<Figure size 432x288 with 2 Axes>"
      ]
     },
     "metadata": {
      "needs_background": "light"
     },
     "output_type": "display_data"
    }
   ],
   "source": [
    "ceo_matrix = pd.crosstab(Y_test.values.ravel(), Y_pred, rownames=['Actual'], colnames=['Predicted'])\n",
    "sn.heatmap(ceo_matrix, annot=True, cmap=\"YlGnBu\")"
   ]
  },
  {
   "cell_type": "code",
   "execution_count": 179,
   "metadata": {},
   "outputs": [
    {
     "data": {
      "text/plain": [
       "0.8301282051282052"
      ]
     },
     "execution_count": 179,
     "metadata": {},
     "output_type": "execute_result"
    }
   ],
   "source": [
    "metrics.accuracy_score(Y_test.values.ravel(), Y_pred)"
   ]
  },
  {
   "cell_type": "code",
   "execution_count": 498,
   "metadata": {},
   "outputs": [
    {
     "data": {
      "text/plain": [
       "array([[ 4.85556984,  1.75995415,  0.16442555,  0.38710025,  1.10835805,\n",
       "        -0.83569693]])"
      ]
     },
     "execution_count": 498,
     "metadata": {},
     "output_type": "execute_result"
    }
   ],
   "source": [
    "ceo_logit.coef_"
   ]
  },
  {
   "cell_type": "markdown",
   "metadata": {},
   "source": [
    "#### Raw data Results"
   ]
  },
  {
   "cell_type": "code",
   "execution_count": 185,
   "metadata": {},
   "outputs": [],
   "source": [
    "## Final result:\n",
    "ceo_name = []\n",
    "ceo_snippet = []\n",
    "\n",
    "import spacy"
   ]
  },
  {
   "cell_type": "code",
   "execution_count": 186,
   "metadata": {},
   "outputs": [
    {
     "name": "stdout",
     "output_type": "stream",
     "text": [
      "0\n",
      "30\n",
      "60\n",
      "90\n",
      "120\n",
      "150\n",
      "180\n",
      "210\n",
      "240\n",
      "270\n",
      "300\n",
      "330\n",
      "360\n"
     ]
    }
   ],
   "source": [
    "## 2013\n",
    "## looper over all files\n",
    "\n",
    "text_2013 = glob.glob(\"C:/Users/James Jia/Desktop/HW3/2013/*.txt\")\n",
    "\n",
    "looper = 0\n",
    "\n",
    "for file_dir in text_2013:\n",
    "    \n",
    "    if (looper % 30 == 0):\n",
    "        print(looper)\n",
    "    looper = looper + 1\n",
    "    \n",
    "    toread = open(file_dir, \"r\", encoding='utf-8', errors='ignore').read()\n",
    "    \n",
    "    ## getting the spacy NER results\n",
    "    nlp = spacy.load(\"en_core_web_sm\")\n",
    "    doc = nlp(toread)\n",
    "    \n",
    "    ## text processing and tokenizing:\n",
    "    toread_token = toread.replace(\"\\\\\",\" \").replace(\"\\n\",\" \").replace('\"',\" \").replace(\",\",\"\")\n",
    "    toread_token = word_tokenize(toread_token)\n",
    "    toread_token = [i for i in toread_token if not i in stop_word]\n",
    "    toread_token = [ lemma.lemmatize(token) for token in toread_token ]\n",
    "    toread_token = [ token for token in toread_token if token != '.']\n",
    "    toread_token = [ token for token in toread_token if token != '(']\n",
    "    toread_token = [ token for token in toread_token if token != ')']\n",
    "    \n",
    "    ## adding new names + create snippets\n",
    "    for ent in doc.ents:\n",
    "        tokens = ent.text.split()\n",
    "        name = ent.text\n",
    "        if (len(tokens) > 1) and (ent.label_ == \"PERSON\") and (name not in ceo_name):\n",
    "            ceo_name.append(name)\n",
    "            loc = find_name_match(name, toread_token)\n",
    "            sni = create_snippet(loc, toread_token)\n",
    "            ceo_snippet.append(sni)    "
   ]
  },
  {
   "cell_type": "code",
   "execution_count": 189,
   "metadata": {},
   "outputs": [
    {
     "name": "stdout",
     "output_type": "stream",
     "text": [
      "0\n",
      "30\n",
      "60\n",
      "90\n",
      "120\n",
      "150\n",
      "180\n",
      "210\n",
      "240\n",
      "270\n",
      "300\n",
      "330\n",
      "360\n"
     ]
    }
   ],
   "source": [
    "## 2014\n",
    "## looper over all files\n",
    "\n",
    "text_2014 = glob.glob(\"C:/Users/James Jia/Desktop/HW3/2014/*.txt\")\n",
    "\n",
    "looper = 0\n",
    "\n",
    "for file_dir in text_2014:\n",
    "    \n",
    "    if (looper % 30 == 0):\n",
    "        print(looper)\n",
    "    looper = looper + 1\n",
    "    \n",
    "    toread = open(file_dir, \"r\", encoding='utf-8', errors='ignore').read()\n",
    "    \n",
    "    ## getting the spacy NER results\n",
    "    nlp = spacy.load(\"en_core_web_sm\")\n",
    "    doc = nlp(toread)\n",
    "    \n",
    "    ## text processing and tokenizing:\n",
    "    toread_token = toread.replace(\"\\\\\",\" \").replace(\"\\n\",\" \").replace('\"',\" \").replace(\",\",\"\")\n",
    "    toread_token = word_tokenize(toread_token)\n",
    "    toread_token = [i for i in toread_token if not i in stop_word]\n",
    "    toread_token = [ lemma.lemmatize(token) for token in toread_token ]\n",
    "    toread_token = [ token for token in toread_token if token != '.']\n",
    "    toread_token = [ token for token in toread_token if token != '(']\n",
    "    toread_token = [ token for token in toread_token if token != ')']\n",
    "    \n",
    "    ## adding new names + create snippets\n",
    "    for ent in doc.ents:\n",
    "        tokens = ent.text.split()\n",
    "        name = ent.text\n",
    "        if (len(tokens) > 1) and (ent.label_ == \"PERSON\") and (name not in ceo_name):\n",
    "            ceo_name.append(name)\n",
    "            loc = find_name_match(name, toread_token)\n",
    "            sni = create_snippet(loc, toread_token)\n",
    "            ceo_snippet.append(sni)    "
   ]
  },
  {
   "cell_type": "code",
   "execution_count": 190,
   "metadata": {},
   "outputs": [
    {
     "data": {
      "text/plain": [
       "41731"
      ]
     },
     "execution_count": 190,
     "metadata": {},
     "output_type": "execute_result"
    }
   ],
   "source": [
    "len(ceo_name)"
   ]
  },
  {
   "cell_type": "code",
   "execution_count": 208,
   "metadata": {},
   "outputs": [],
   "source": [
    "ceo_df = pd.DataFrame(list(zip(ceo_name,ceo_snippet)), \n",
    "                      columns =['name', 'snippet'])\n",
    "for index, row in ceo_df.iterrows():\n",
    "    if (\"'s\" in row['name']):\n",
    "        ceo_df = ceo_df.drop(index)"
   ]
  },
  {
   "cell_type": "code",
   "execution_count": 211,
   "metadata": {},
   "outputs": [
    {
     "data": {
      "text/html": [
       "<div>\n",
       "<style scoped>\n",
       "    .dataframe tbody tr th:only-of-type {\n",
       "        vertical-align: middle;\n",
       "    }\n",
       "\n",
       "    .dataframe tbody tr th {\n",
       "        vertical-align: top;\n",
       "    }\n",
       "\n",
       "    .dataframe thead th {\n",
       "        text-align: right;\n",
       "    }\n",
       "</style>\n",
       "<table border=\"1\" class=\"dataframe\">\n",
       "  <thead>\n",
       "    <tr style=\"text-align: right;\">\n",
       "      <th></th>\n",
       "      <th>name</th>\n",
       "      <th>snippet</th>\n",
       "    </tr>\n",
       "  </thead>\n",
       "  <tbody>\n",
       "    <tr>\n",
       "      <th>0</th>\n",
       "      <td>Mitch McConnell</td>\n",
       "      <td>bill orchestrated White House Senate Minority...</td>\n",
       "    </tr>\n",
       "    <tr>\n",
       "      <th>1</th>\n",
       "      <td>John Boehner</td>\n",
       "      <td>Mitch McConnell conservative railing GOP Hous...</td>\n",
       "    </tr>\n",
       "    <tr>\n",
       "      <th>2</th>\n",
       "      <td>Mitt Romney</td>\n",
       "      <td>regard America land maker taker Congress sock...</td>\n",
       "    </tr>\n",
       "    <tr>\n",
       "      <th>3</th>\n",
       "      <td>Fred Wilson</td>\n",
       "      <td>would paid Tax Policy Center Venture capitali...</td>\n",
       "    </tr>\n",
       "    <tr>\n",
       "      <th>4</th>\n",
       "      <td>Brad Burnham</td>\n",
       "      <td>Square delivered past 5 year fluke partner Br...</td>\n",
       "    </tr>\n",
       "  </tbody>\n",
       "</table>\n",
       "</div>"
      ],
      "text/plain": [
       "              name                                            snippet\n",
       "0  Mitch McConnell   bill orchestrated White House Senate Minority...\n",
       "1     John Boehner   Mitch McConnell conservative railing GOP Hous...\n",
       "2      Mitt Romney   regard America land maker taker Congress sock...\n",
       "3      Fred Wilson   would paid Tax Policy Center Venture capitali...\n",
       "4     Brad Burnham   Square delivered past 5 year fluke partner Br..."
      ]
     },
     "execution_count": 211,
     "metadata": {},
     "output_type": "execute_result"
    }
   ],
   "source": [
    "ceo_df = ceo_df.reset_index(drop=True)\n",
    "ceo_df.head(5)"
   ]
  },
  {
   "cell_type": "code",
   "execution_count": 212,
   "metadata": {},
   "outputs": [],
   "source": [
    "ceo_df['f1'] = ceo_df.apply(ceo_f1, axis=1)\n",
    "ceo_df['f2'] = ceo_df.apply(ceo_f2, axis=1)\n",
    "ceo_df['f3'] = ceo_df.apply(ceo_f3, axis=1)\n",
    "ceo_df['f4'] = ceo_df.apply(ceo_f4, axis=1)\n",
    "ceo_df['f5'] = ceo_df.apply(ceo_f5, axis=1)\n",
    "ceo_df['f6'] = ceo_df.apply(ceo_f6, axis=1)"
   ]
  },
  {
   "cell_type": "code",
   "execution_count": 213,
   "metadata": {},
   "outputs": [
    {
     "data": {
      "text/html": [
       "<div>\n",
       "<style scoped>\n",
       "    .dataframe tbody tr th:only-of-type {\n",
       "        vertical-align: middle;\n",
       "    }\n",
       "\n",
       "    .dataframe tbody tr th {\n",
       "        vertical-align: top;\n",
       "    }\n",
       "\n",
       "    .dataframe thead th {\n",
       "        text-align: right;\n",
       "    }\n",
       "</style>\n",
       "<table border=\"1\" class=\"dataframe\">\n",
       "  <thead>\n",
       "    <tr style=\"text-align: right;\">\n",
       "      <th></th>\n",
       "      <th>name</th>\n",
       "      <th>snippet</th>\n",
       "      <th>f1</th>\n",
       "      <th>f2</th>\n",
       "      <th>f3</th>\n",
       "      <th>f4</th>\n",
       "      <th>f5</th>\n",
       "      <th>f6</th>\n",
       "    </tr>\n",
       "  </thead>\n",
       "  <tbody>\n",
       "    <tr>\n",
       "      <th>0</th>\n",
       "      <td>Mitch McConnell</td>\n",
       "      <td>bill orchestrated White House Senate Minority...</td>\n",
       "      <td>0</td>\n",
       "      <td>0</td>\n",
       "      <td>1</td>\n",
       "      <td>0</td>\n",
       "      <td>0</td>\n",
       "      <td>0</td>\n",
       "    </tr>\n",
       "    <tr>\n",
       "      <th>1</th>\n",
       "      <td>John Boehner</td>\n",
       "      <td>Mitch McConnell conservative railing GOP Hous...</td>\n",
       "      <td>0</td>\n",
       "      <td>0</td>\n",
       "      <td>1</td>\n",
       "      <td>0</td>\n",
       "      <td>0</td>\n",
       "      <td>1</td>\n",
       "    </tr>\n",
       "    <tr>\n",
       "      <th>2</th>\n",
       "      <td>Mitt Romney</td>\n",
       "      <td>regard America land maker taker Congress sock...</td>\n",
       "      <td>0</td>\n",
       "      <td>0</td>\n",
       "      <td>0</td>\n",
       "      <td>0</td>\n",
       "      <td>0</td>\n",
       "      <td>1</td>\n",
       "    </tr>\n",
       "    <tr>\n",
       "      <th>3</th>\n",
       "      <td>Fred Wilson</td>\n",
       "      <td>would paid Tax Policy Center Venture capitali...</td>\n",
       "      <td>0</td>\n",
       "      <td>0</td>\n",
       "      <td>0</td>\n",
       "      <td>0</td>\n",
       "      <td>0</td>\n",
       "      <td>0</td>\n",
       "    </tr>\n",
       "    <tr>\n",
       "      <th>4</th>\n",
       "      <td>Brad Burnham</td>\n",
       "      <td>Square delivered past 5 year fluke partner Br...</td>\n",
       "      <td>0</td>\n",
       "      <td>0</td>\n",
       "      <td>0</td>\n",
       "      <td>0</td>\n",
       "      <td>0</td>\n",
       "      <td>0</td>\n",
       "    </tr>\n",
       "  </tbody>\n",
       "</table>\n",
       "</div>"
      ],
      "text/plain": [
       "              name                                            snippet  f1  f2  \\\n",
       "0  Mitch McConnell   bill orchestrated White House Senate Minority...   0   0   \n",
       "1     John Boehner   Mitch McConnell conservative railing GOP Hous...   0   0   \n",
       "2      Mitt Romney   regard America land maker taker Congress sock...   0   0   \n",
       "3      Fred Wilson   would paid Tax Policy Center Venture capitali...   0   0   \n",
       "4     Brad Burnham   Square delivered past 5 year fluke partner Br...   0   0   \n",
       "\n",
       "   f3  f4  f5  f6  \n",
       "0   1   0   0   0  \n",
       "1   1   0   0   1  \n",
       "2   0   0   0   1  \n",
       "3   0   0   0   0  \n",
       "4   0   0   0   0  "
      ]
     },
     "execution_count": 213,
     "metadata": {},
     "output_type": "execute_result"
    }
   ],
   "source": [
    "ceo_df.head(5)"
   ]
  },
  {
   "cell_type": "code",
   "execution_count": 214,
   "metadata": {},
   "outputs": [],
   "source": [
    "ceo_df_x = ceo_df[['f1','f2','f3','f4','f5','f6']]"
   ]
  },
  {
   "cell_type": "code",
   "execution_count": 216,
   "metadata": {},
   "outputs": [],
   "source": [
    "ceo_df_y = ceo_logit.predict(ceo_df_x)"
   ]
  },
  {
   "cell_type": "code",
   "execution_count": 220,
   "metadata": {},
   "outputs": [],
   "source": [
    "ceo_df['decision'] = ceo_df_y"
   ]
  },
  {
   "cell_type": "code",
   "execution_count": 221,
   "metadata": {},
   "outputs": [
    {
     "data": {
      "text/html": [
       "<div>\n",
       "<style scoped>\n",
       "    .dataframe tbody tr th:only-of-type {\n",
       "        vertical-align: middle;\n",
       "    }\n",
       "\n",
       "    .dataframe tbody tr th {\n",
       "        vertical-align: top;\n",
       "    }\n",
       "\n",
       "    .dataframe thead th {\n",
       "        text-align: right;\n",
       "    }\n",
       "</style>\n",
       "<table border=\"1\" class=\"dataframe\">\n",
       "  <thead>\n",
       "    <tr style=\"text-align: right;\">\n",
       "      <th></th>\n",
       "      <th>name</th>\n",
       "      <th>snippet</th>\n",
       "      <th>f1</th>\n",
       "      <th>f2</th>\n",
       "      <th>f3</th>\n",
       "      <th>f4</th>\n",
       "      <th>f5</th>\n",
       "      <th>f6</th>\n",
       "      <th>decision</th>\n",
       "    </tr>\n",
       "  </thead>\n",
       "  <tbody>\n",
       "    <tr>\n",
       "      <th>0</th>\n",
       "      <td>Mitch McConnell</td>\n",
       "      <td>bill orchestrated White House Senate Minority...</td>\n",
       "      <td>0</td>\n",
       "      <td>0</td>\n",
       "      <td>1</td>\n",
       "      <td>0</td>\n",
       "      <td>0</td>\n",
       "      <td>0</td>\n",
       "      <td>0</td>\n",
       "    </tr>\n",
       "    <tr>\n",
       "      <th>1</th>\n",
       "      <td>John Boehner</td>\n",
       "      <td>Mitch McConnell conservative railing GOP Hous...</td>\n",
       "      <td>0</td>\n",
       "      <td>0</td>\n",
       "      <td>1</td>\n",
       "      <td>0</td>\n",
       "      <td>0</td>\n",
       "      <td>1</td>\n",
       "      <td>0</td>\n",
       "    </tr>\n",
       "    <tr>\n",
       "      <th>2</th>\n",
       "      <td>Mitt Romney</td>\n",
       "      <td>regard America land maker taker Congress sock...</td>\n",
       "      <td>0</td>\n",
       "      <td>0</td>\n",
       "      <td>0</td>\n",
       "      <td>0</td>\n",
       "      <td>0</td>\n",
       "      <td>1</td>\n",
       "      <td>0</td>\n",
       "    </tr>\n",
       "    <tr>\n",
       "      <th>3</th>\n",
       "      <td>Fred Wilson</td>\n",
       "      <td>would paid Tax Policy Center Venture capitali...</td>\n",
       "      <td>0</td>\n",
       "      <td>0</td>\n",
       "      <td>0</td>\n",
       "      <td>0</td>\n",
       "      <td>0</td>\n",
       "      <td>0</td>\n",
       "      <td>0</td>\n",
       "    </tr>\n",
       "    <tr>\n",
       "      <th>4</th>\n",
       "      <td>Brad Burnham</td>\n",
       "      <td>Square delivered past 5 year fluke partner Br...</td>\n",
       "      <td>0</td>\n",
       "      <td>0</td>\n",
       "      <td>0</td>\n",
       "      <td>0</td>\n",
       "      <td>0</td>\n",
       "      <td>0</td>\n",
       "      <td>0</td>\n",
       "    </tr>\n",
       "  </tbody>\n",
       "</table>\n",
       "</div>"
      ],
      "text/plain": [
       "              name                                            snippet  f1  f2  \\\n",
       "0  Mitch McConnell   bill orchestrated White House Senate Minority...   0   0   \n",
       "1     John Boehner   Mitch McConnell conservative railing GOP Hous...   0   0   \n",
       "2      Mitt Romney   regard America land maker taker Congress sock...   0   0   \n",
       "3      Fred Wilson   would paid Tax Policy Center Venture capitali...   0   0   \n",
       "4     Brad Burnham   Square delivered past 5 year fluke partner Br...   0   0   \n",
       "\n",
       "   f3  f4  f5  f6  decision  \n",
       "0   1   0   0   0         0  \n",
       "1   1   0   0   1         0  \n",
       "2   0   0   0   1         0  \n",
       "3   0   0   0   0         0  \n",
       "4   0   0   0   0         0  "
      ]
     },
     "execution_count": 221,
     "metadata": {},
     "output_type": "execute_result"
    }
   ],
   "source": [
    "ceo_df.head(5)"
   ]
  },
  {
   "cell_type": "code",
   "execution_count": 222,
   "metadata": {},
   "outputs": [],
   "source": [
    "ceo_df_result = ceo_df[ceo_df['decision'] == 1]"
   ]
  },
  {
   "cell_type": "code",
   "execution_count": 223,
   "metadata": {},
   "outputs": [
    {
     "data": {
      "text/html": [
       "<div>\n",
       "<style scoped>\n",
       "    .dataframe tbody tr th:only-of-type {\n",
       "        vertical-align: middle;\n",
       "    }\n",
       "\n",
       "    .dataframe tbody tr th {\n",
       "        vertical-align: top;\n",
       "    }\n",
       "\n",
       "    .dataframe thead th {\n",
       "        text-align: right;\n",
       "    }\n",
       "</style>\n",
       "<table border=\"1\" class=\"dataframe\">\n",
       "  <thead>\n",
       "    <tr style=\"text-align: right;\">\n",
       "      <th></th>\n",
       "      <th>name</th>\n",
       "      <th>snippet</th>\n",
       "      <th>f1</th>\n",
       "      <th>f2</th>\n",
       "      <th>f3</th>\n",
       "      <th>f4</th>\n",
       "      <th>f5</th>\n",
       "      <th>f6</th>\n",
       "      <th>decision</th>\n",
       "    </tr>\n",
       "  </thead>\n",
       "  <tbody>\n",
       "    <tr>\n",
       "      <th>58</th>\n",
       "      <td>Jeff Immelt</td>\n",
       "      <td>Industrial Renaissance In December issue The ...</td>\n",
       "      <td>1</td>\n",
       "      <td>0</td>\n",
       "      <td>0</td>\n",
       "      <td>0</td>\n",
       "      <td>0</td>\n",
       "      <td>0</td>\n",
       "      <td>1</td>\n",
       "    </tr>\n",
       "    <tr>\n",
       "      <th>65</th>\n",
       "      <td>George W. Bush</td>\n",
       "      <td>would without Fiscal Cliff deal $ 675K George...</td>\n",
       "      <td>0</td>\n",
       "      <td>0</td>\n",
       "      <td>0</td>\n",
       "      <td>0</td>\n",
       "      <td>1</td>\n",
       "      <td>0</td>\n",
       "      <td>1</td>\n",
       "    </tr>\n",
       "    <tr>\n",
       "      <th>88</th>\n",
       "      <td>Anand Nallathambi</td>\n",
       "      <td>term number unit dollar represent ” said Anan...</td>\n",
       "      <td>1</td>\n",
       "      <td>0</td>\n",
       "      <td>0</td>\n",
       "      <td>1</td>\n",
       "      <td>0</td>\n",
       "      <td>0</td>\n",
       "      <td>1</td>\n",
       "    </tr>\n",
       "    <tr>\n",
       "      <th>89</th>\n",
       "      <td>Mark Mobius</td>\n",
       "      <td>Global Investment Adventures Emerging Markets...</td>\n",
       "      <td>0</td>\n",
       "      <td>1</td>\n",
       "      <td>0</td>\n",
       "      <td>0</td>\n",
       "      <td>0</td>\n",
       "      <td>0</td>\n",
       "      <td>1</td>\n",
       "    </tr>\n",
       "    <tr>\n",
       "      <th>130</th>\n",
       "      <td>Jorge Piedrahitatold Bloomberg</td>\n",
       "      <td>40 basis point today Torino Capital CEO Jorge...</td>\n",
       "      <td>1</td>\n",
       "      <td>0</td>\n",
       "      <td>0</td>\n",
       "      <td>0</td>\n",
       "      <td>0</td>\n",
       "      <td>0</td>\n",
       "      <td>1</td>\n",
       "    </tr>\n",
       "  </tbody>\n",
       "</table>\n",
       "</div>"
      ],
      "text/plain": [
       "                               name  \\\n",
       "58                      Jeff Immelt   \n",
       "65                   George W. Bush   \n",
       "88                Anand Nallathambi   \n",
       "89                      Mark Mobius   \n",
       "130  Jorge Piedrahitatold Bloomberg   \n",
       "\n",
       "                                               snippet  f1  f2  f3  f4  f5  \\\n",
       "58    Industrial Renaissance In December issue The ...   1   0   0   0   0   \n",
       "65    would without Fiscal Cliff deal $ 675K George...   0   0   0   0   1   \n",
       "88    term number unit dollar represent ” said Anan...   1   0   0   1   0   \n",
       "89    Global Investment Adventures Emerging Markets...   0   1   0   0   0   \n",
       "130   40 basis point today Torino Capital CEO Jorge...   1   0   0   0   0   \n",
       "\n",
       "     f6  decision  \n",
       "58    0         1  \n",
       "65    0         1  \n",
       "88    0         1  \n",
       "89    0         1  \n",
       "130   0         1  "
      ]
     },
     "execution_count": 223,
     "metadata": {},
     "output_type": "execute_result"
    }
   ],
   "source": [
    "ceo_df_result.head(5)"
   ]
  },
  {
   "cell_type": "code",
   "execution_count": 227,
   "metadata": {},
   "outputs": [
    {
     "name": "stdout",
     "output_type": "stream",
     "text": [
      "0.4009836914315299\n",
      "0.2780222624902925\n",
      "0.016308568470100957\n",
      "0.19000776598498575\n",
      "0.3595651048407973\n",
      "0.13952886357753042\n"
     ]
    }
   ],
   "source": [
    "## Which features are more ubiqitous?\n",
    "\n",
    "ceo_feature = ['f1','f2','f3','f4','f5','f6']\n",
    "for i in ceo_feature:\n",
    "    print(ceo_df_result[i].mean())"
   ]
  },
  {
   "cell_type": "code",
   "execution_count": 350,
   "metadata": {},
   "outputs": [
    {
     "data": {
      "text/plain": [
       "3863"
      ]
     },
     "execution_count": 350,
     "metadata": {},
     "output_type": "execute_result"
    }
   ],
   "source": [
    "len(ceo_df_result.name)"
   ]
  },
  {
   "cell_type": "code",
   "execution_count": 228,
   "metadata": {},
   "outputs": [],
   "source": [
    "## output\n",
    "\n",
    "ceo_df_result.to_csv('C:/Users/James Jia/Desktop/HW3/output/all_ceo.csv', \n",
    "                    columns = ['name'], index=False, header=False)"
   ]
  },
  {
   "cell_type": "markdown",
   "metadata": {},
   "source": [
    "## PART II -- COMPANY"
   ]
  },
  {
   "cell_type": "code",
   "execution_count": 197,
   "metadata": {},
   "outputs": [
    {
     "name": "stdout",
     "output_type": "stream",
     "text": [
      "0\n",
      "500\n",
      "1000\n",
      "1500\n",
      "2000\n",
      "2500\n"
     ]
    }
   ],
   "source": [
    "## create snippet column in company\n",
    "company['snippet'] = ''\n",
    "\n",
    "for index, row in company.iterrows():\n",
    "    \n",
    "    ## status monitor\n",
    "    if (index % 500 == 0):\n",
    "        print(index)\n",
    "        \n",
    "    result = find_name_match(row['name'], text)\n",
    "    if (result != 0):\n",
    "        sni = create_snippet(result, text)\n",
    "        company.iat[index,1] = sni"
   ]
  },
  {
   "cell_type": "code",
   "execution_count": 231,
   "metadata": {},
   "outputs": [],
   "source": [
    "company = company[company['snippet'] != '']"
   ]
  },
  {
   "cell_type": "code",
   "execution_count": 233,
   "metadata": {},
   "outputs": [],
   "source": [
    "company = company.reset_index(drop=True)"
   ]
  },
  {
   "cell_type": "code",
   "execution_count": 235,
   "metadata": {},
   "outputs": [
    {
     "name": "stdout",
     "output_type": "stream",
     "text": [
      " illegally tipping brother earnings medical device company Abaxis Inc Her brother accused passing information former\n",
      " fourth quarter addition already disclosed Herbalife include News Corp Louisiana PAC Corp. International Paper Illumina\n",
      " supermarket Steve Brazier CEO market research firm Canalys said report last year Even mighty Walmart\n",
      " Sen. John McCain R-Ariz Washington Democrat Maria Cantwell Maine Independent Angus King co-sponsoring bill You\n",
      " right They among Hollywood glitterati bought dream Fisker Automotive gas-thrifty rule-breaking Karma kick sand face\n",
      " trade $ 109 Shares two sand miner U.S. Silica Holdings Inc Hi Crush Partners LP\n",
      " NYC 's nightclub supplement mixer given can Red Bull already available certain bottle service table\n",
      " Debes technology veteran operating partner buyout firm Advent International Corp. PLATONIC GUARDIANS ? Some conflict\n",
      " fascination New York tabloid WHO 'S THIS YAHOO ? Tumblr allows user create simple blog\n",
      " head Mainstreet Bank bank 's holding company Calvert Financial Corporation applied TARP money behalf bank\n",
      " infrastructure real estate chief told Reuters recently And China Investment Corporation CIC $ 575 billion\n",
      " bypassing Wall Street dealer buying directly Treasury Nomura analyst suggest part larger shift bond market\n",
      " discussion u immediately Holdout creditor led Aurelius Elliott Management Corp judgment $ 1.33 billion plus\n",
      " showroom TokyoTOKYO Reuters - Japanese small-car maker Suzuki Motor Corp said Wednesday introduce affordable simplified\n",
      " Thursday changed name Alipay financial service affiliate Ant Financial Services Group step push financial service\n",
      " misled company brought help select security ACA Capital Holdings Inc believing Paulson equity investor Abacus\n",
      " hope could involved form consolidation Japan 's Dentsu Inc also seen playing role Several agency\n",
      " Hay Leslie Adler Although Kosta Kartsotis CEO Fossil Group public company $ 7 billion valuation\n",
      " thing I observed heard I guest 48 Icebreakers Group celebrating 60th anniversary met number senior\n",
      " Uncertainty becoming certainty said Jonas Prising head Manpower 's operation Americas southern Europe In new\n",
      " trading illegally FAB Universal Corp PhotoMedex Inc Pacific Ethanol Inc Dot Hill Systems Corp Lifetime\n",
      " The SEC 's 2010 civil lawsuit Boston-based Sage Advisory Group LLC owner Benjamin Lee Grant\n",
      " Chinese timber company Superb Summit We short Superb Summit International Group Ltd. 1228.HK Superb virtually\n",
      " News Corp. Star Trek Into Darkness released Viacom Inc 's Paramount Pictures Now You See\n",
      " receive around 30 percent doctorate area according National Science Foundation They receive around one-fifth bachelor\n"
     ]
    }
   ],
   "source": [
    "## feature exploration\n",
    "for index, row in company.iterrows():\n",
    "    if (index % 90 == 0):\n",
    "        print(row['snippet'])"
   ]
  },
  {
   "cell_type": "markdown",
   "metadata": {},
   "source": [
    "#### Create Negative Samples"
   ]
  },
  {
   "cell_type": "code",
   "execution_count": 254,
   "metadata": {},
   "outputs": [],
   "source": [
    "## Council, foundation, association, community\n",
    "org1_loc = [i for i, element in enumerate(text) if \n",
    "            (element == \"Council\") or (element == \"Foundation\") or\n",
    "           (element == \"Association\")]"
   ]
  },
  {
   "cell_type": "code",
   "execution_count": 255,
   "metadata": {},
   "outputs": [
    {
     "data": {
      "text/plain": [
       "1999"
      ]
     },
     "execution_count": 255,
     "metadata": {},
     "output_type": "execute_result"
    }
   ],
   "source": [
    "len(org1_loc)"
   ]
  },
  {
   "cell_type": "code",
   "execution_count": 256,
   "metadata": {},
   "outputs": [],
   "source": [
    "org2_loc = [i for i, element in enumerate(text) if\n",
    "           (element == \"WTO\") or (element == \"UN\") or (element == \"WHO\")\n",
    "           or (element == \"AIESEC\") or (element == \"NATO\") or \n",
    "           (element == \"ASEAN\")]"
   ]
  },
  {
   "cell_type": "code",
   "execution_count": 257,
   "metadata": {},
   "outputs": [
    {
     "data": {
      "text/plain": [
       "445"
      ]
     },
     "execution_count": 257,
     "metadata": {},
     "output_type": "execute_result"
    }
   ],
   "source": [
    "len(org2_loc)"
   ]
  },
  {
   "cell_type": "code",
   "execution_count": 258,
   "metadata": {},
   "outputs": [],
   "source": [
    "org_loc = org1_loc + org2_loc"
   ]
  },
  {
   "cell_type": "code",
   "execution_count": 259,
   "metadata": {},
   "outputs": [
    {
     "data": {
      "text/plain": [
       "2444"
      ]
     },
     "execution_count": 259,
     "metadata": {},
     "output_type": "execute_result"
    }
   ],
   "source": [
    "len(org_loc)"
   ]
  },
  {
   "cell_type": "code",
   "execution_count": 261,
   "metadata": {},
   "outputs": [],
   "source": [
    "org = pd.DataFrame(org_loc,columns=[\"name\"])\n",
    "\n",
    "org['snippet'] = ''\n",
    "\n",
    "org_snippet = []\n",
    "\n",
    "for index, row in org.iterrows():\n",
    "    \n",
    "    sni = create_snippet(row['name'], text)\n",
    "    org_snippet.append(sni)"
   ]
  },
  {
   "cell_type": "code",
   "execution_count": 263,
   "metadata": {},
   "outputs": [],
   "source": [
    "org['snippet'] = org_snippet"
   ]
  },
  {
   "cell_type": "code",
   "execution_count": 264,
   "metadata": {},
   "outputs": [
    {
     "data": {
      "text/html": [
       "<div>\n",
       "<style scoped>\n",
       "    .dataframe tbody tr th:only-of-type {\n",
       "        vertical-align: middle;\n",
       "    }\n",
       "\n",
       "    .dataframe tbody tr th {\n",
       "        vertical-align: top;\n",
       "    }\n",
       "\n",
       "    .dataframe thead th {\n",
       "        text-align: right;\n",
       "    }\n",
       "</style>\n",
       "<table border=\"1\" class=\"dataframe\">\n",
       "  <thead>\n",
       "    <tr style=\"text-align: right;\">\n",
       "      <th></th>\n",
       "      <th>name</th>\n",
       "      <th>snippet</th>\n",
       "    </tr>\n",
       "  </thead>\n",
       "  <tbody>\n",
       "    <tr>\n",
       "      <th>0</th>\n",
       "      <td>7562</td>\n",
       "      <td>money away He The Bill Melinda Gates Foundati...</td>\n",
       "    </tr>\n",
       "    <tr>\n",
       "      <th>1</th>\n",
       "      <td>16620</td>\n",
       "      <td>another day Here welfare chart : Heritage Fou...</td>\n",
       "    </tr>\n",
       "    <tr>\n",
       "      <th>2</th>\n",
       "      <td>24395</td>\n",
       "      <td>&amp; nbsp ; The Club Growth Heritage Foundation ...</td>\n",
       "    </tr>\n",
       "    <tr>\n",
       "      <th>3</th>\n",
       "      <td>30654</td>\n",
       "      <td>Precipice The presentation delivered North Ca...</td>\n",
       "    </tr>\n",
       "    <tr>\n",
       "      <th>4</th>\n",
       "      <td>34947</td>\n",
       "      <td>rate Pointing recent decision Financial Stabi...</td>\n",
       "    </tr>\n",
       "  </tbody>\n",
       "</table>\n",
       "</div>"
      ],
      "text/plain": [
       "    name                                            snippet\n",
       "0   7562   money away He The Bill Melinda Gates Foundati...\n",
       "1  16620   another day Here welfare chart : Heritage Fou...\n",
       "2  24395   & nbsp ; The Club Growth Heritage Foundation ...\n",
       "3  30654   Precipice The presentation delivered North Ca...\n",
       "4  34947   rate Pointing recent decision Financial Stabi..."
      ]
     },
     "execution_count": 264,
     "metadata": {},
     "output_type": "execute_result"
    }
   ],
   "source": [
    "org.head(5)"
   ]
  },
  {
   "cell_type": "code",
   "execution_count": 265,
   "metadata": {},
   "outputs": [],
   "source": [
    "org = org.drop(columns=['name'])"
   ]
  },
  {
   "cell_type": "code",
   "execution_count": 266,
   "metadata": {},
   "outputs": [
    {
     "name": "stdout",
     "output_type": "stream",
     "text": [
      " money away He The Bill Melinda Gates Foundation working $ 36.2 billion endowment Gates But\n",
      " EU leader including Herman Van Rompuy European Council president Christine Lagarde IMF ’ managing director\n",
      " full letter It 's odd development since Foundation n't actually perform wire transfer rather serf\n",
      " option contract That 's worked Futures Trading Association launch educational effort help individual investor trade\n",
      " big development section Brooklyn 10 year City Council including Atlantic Yards development recently opened Barclays\n",
      " agency reported late Saturday citing China Cuisine Association It give growth pace earlier year Restaurant\n",
      " including time spent senior person Treasury member Council Economic Advisors He well positioned capitalize financially\n",
      " incredible swing Jason Furman chairman White House'sof Council Economic Advisers said 's biggest revision roughly\n",
      " Reuters - The U.S. Financial Stability Oversight Council closed evidentiary record determine whether insurance firm\n",
      " 's good ca n't - carry alone Council Foreign Relations Additional reporting Vladimir Soldatkin Denis\n",
      " last year presidential election grumbled : The UN mandate stipulated African problem resolved Africans Not\n",
      " 47 percent first quarter last year Investment ASEAN country European Union also fell Last week\n",
      " start invading neighboring country ? Will test NATO resolve invading Baltic country part NATO ?\n"
     ]
    }
   ],
   "source": [
    "## feature exploration\n",
    "for index, row in org.iterrows():\n",
    "    if (index % 200 == 0):\n",
    "        print(row['snippet'])"
   ]
  },
  {
   "cell_type": "code",
   "execution_count": 267,
   "metadata": {},
   "outputs": [],
   "source": [
    "company = company.drop(columns=['name'])\n",
    "company['label'] = 1\n",
    "org['label'] = 0"
   ]
  },
  {
   "cell_type": "code",
   "execution_count": 268,
   "metadata": {},
   "outputs": [],
   "source": [
    "## Combining to 1 training dataframe\n",
    "co_training_data = pd.concat([company, org])"
   ]
  },
  {
   "cell_type": "code",
   "execution_count": 269,
   "metadata": {},
   "outputs": [
    {
     "data": {
      "text/plain": [
       "4612"
      ]
     },
     "execution_count": 269,
     "metadata": {},
     "output_type": "execute_result"
    }
   ],
   "source": [
    "len(co_training_data.snippet)"
   ]
  },
  {
   "cell_type": "markdown",
   "metadata": {},
   "source": [
    "#### Creating features"
   ]
  },
  {
   "cell_type": "code",
   "execution_count": 270,
   "metadata": {},
   "outputs": [],
   "source": [
    "## Features:\n",
    "\n",
    "## f1 : contain the word \"ceo\" or \"CEO\"\n",
    "def co_f1(row):\n",
    "    snippet = row['snippet']\n",
    "    result = re.findall(r'[Cc][Ee][Oo]', snippet)\n",
    "    length = len(result)\n",
    "    if length >= 1:\n",
    "        return 1\n",
    "    else:\n",
    "        return 0\n",
    "\n",
    "## f2 : contain the words:\n",
    "## \"Inc\", \"Corp\", \"Company\", \"Co\", \"Group\",\"Ltd\", \"LLC\"\n",
    "def co_f2(row):\n",
    "    snippet = row['snippet']\n",
    "    result = []\n",
    "    result = result + re.findall(r'Inc', snippet)\n",
    "    result = result + re.findall(r'Corp', snippet)\n",
    "    result = result + re.findall(r'Company', snippet)\n",
    "    result = result + re.findall(r'Co', snippet)\n",
    "    result = result + re.findall(r'Group', snippet)\n",
    "    result = result + re.findall(r'Ltd', snippet)\n",
    "    result = result + re.findall(r'LLC', snippet)\n",
    "    length = len(result)\n",
    "    return length\n",
    "    \n",
    "## f3 : contain the words:\n",
    "## \"Media\", \"Entertainment\", \"Management\", \"Capital\", \"Bank\"\n",
    "def co_f3(row):\n",
    "    snippet = row['snippet']\n",
    "    result = []\n",
    "    result = result + re.findall(r'Media', snippet)\n",
    "    result = result + re.findall(r'Entertainment', snippet)\n",
    "    result = result + re.findall(r'Management', snippet)\n",
    "    result = result + re.findall(r'Capital', snippet)\n",
    "    result = result + re.findall(r'Bank', snippet)\n",
    "    length = len(result)\n",
    "    return length\n",
    "    \n",
    "## f4 : contain numbers\n",
    "def co_f4(row):\n",
    "    snippet = row['snippet']\n",
    "    result = re.findall(r'[0-9]+', snippet)\n",
    "    length = len(result)\n",
    "    if length >= 1:\n",
    "        return 1\n",
    "    else:\n",
    "        return 0\n",
    "\n",
    "## f5 : contain the \"$\" symbol\n",
    "def co_f5(row):\n",
    "    snippet = row['snippet']\n",
    "    result = re.findall(r'\\$', snippet)\n",
    "    length = len(result)\n",
    "    if length >= 1:\n",
    "        return 1\n",
    "    else:\n",
    "        return 0\n",
    "    \n",
    "## f6 : how many all-caps (at least 2 letters)\n",
    "def co_f6(row):\n",
    "    snippet = row['snippet']\n",
    "    result = re.findall(r'[A-Z][A-Z]+(?=[\\ \\t\\n\\?\\!\\;])', snippet)\n",
    "    length = len(result)\n",
    "    return length"
   ]
  },
  {
   "cell_type": "code",
   "execution_count": 271,
   "metadata": {},
   "outputs": [],
   "source": [
    "co_training_data['f1'] = co_training_data.apply(co_f1, axis=1)\n",
    "co_training_data['f2'] = co_training_data.apply(co_f2, axis=1)\n",
    "co_training_data['f3'] = co_training_data.apply(co_f3, axis=1)\n",
    "co_training_data['f4'] = co_training_data.apply(co_f4, axis=1)\n",
    "co_training_data['f5'] = co_training_data.apply(co_f5, axis=1)\n",
    "co_training_data['f6'] = co_training_data.apply(co_f6, axis=1)"
   ]
  },
  {
   "cell_type": "code",
   "execution_count": 272,
   "metadata": {},
   "outputs": [
    {
     "data": {
      "text/html": [
       "<div>\n",
       "<style scoped>\n",
       "    .dataframe tbody tr th:only-of-type {\n",
       "        vertical-align: middle;\n",
       "    }\n",
       "\n",
       "    .dataframe tbody tr th {\n",
       "        vertical-align: top;\n",
       "    }\n",
       "\n",
       "    .dataframe thead th {\n",
       "        text-align: right;\n",
       "    }\n",
       "</style>\n",
       "<table border=\"1\" class=\"dataframe\">\n",
       "  <thead>\n",
       "    <tr style=\"text-align: right;\">\n",
       "      <th></th>\n",
       "      <th>snippet</th>\n",
       "      <th>label</th>\n",
       "      <th>f1</th>\n",
       "      <th>f2</th>\n",
       "      <th>f3</th>\n",
       "      <th>f4</th>\n",
       "      <th>f5</th>\n",
       "      <th>f6</th>\n",
       "    </tr>\n",
       "  </thead>\n",
       "  <tbody>\n",
       "    <tr>\n",
       "      <th>0</th>\n",
       "      <td>illegally tipping brother earnings medical de...</td>\n",
       "      <td>1</td>\n",
       "      <td>0</td>\n",
       "      <td>1</td>\n",
       "      <td>0</td>\n",
       "      <td>0</td>\n",
       "      <td>0</td>\n",
       "      <td>0</td>\n",
       "    </tr>\n",
       "    <tr>\n",
       "      <th>1</th>\n",
       "      <td>In 2012 According court filing bond insurer A...</td>\n",
       "      <td>1</td>\n",
       "      <td>0</td>\n",
       "      <td>0</td>\n",
       "      <td>0</td>\n",
       "      <td>1</td>\n",
       "      <td>0</td>\n",
       "      <td>1</td>\n",
       "    </tr>\n",
       "    <tr>\n",
       "      <th>2</th>\n",
       "      <td>might come way HONG KONG Reuters - Alibaba Gr...</td>\n",
       "      <td>1</td>\n",
       "      <td>0</td>\n",
       "      <td>2</td>\n",
       "      <td>0</td>\n",
       "      <td>0</td>\n",
       "      <td>0</td>\n",
       "      <td>2</td>\n",
       "    </tr>\n",
       "    <tr>\n",
       "      <th>3</th>\n",
       "      <td>candidate top job company including BlackRock...</td>\n",
       "      <td>1</td>\n",
       "      <td>0</td>\n",
       "      <td>2</td>\n",
       "      <td>0</td>\n",
       "      <td>0</td>\n",
       "      <td>0</td>\n",
       "      <td>0</td>\n",
       "    </tr>\n",
       "    <tr>\n",
       "      <th>4</th>\n",
       "      <td>Jan Hatzius : NEW YORK Reuters - American Int...</td>\n",
       "      <td>1</td>\n",
       "      <td>0</td>\n",
       "      <td>2</td>\n",
       "      <td>0</td>\n",
       "      <td>0</td>\n",
       "      <td>0</td>\n",
       "      <td>2</td>\n",
       "    </tr>\n",
       "    <tr>\n",
       "      <th>...</th>\n",
       "      <td>...</td>\n",
       "      <td>...</td>\n",
       "      <td>...</td>\n",
       "      <td>...</td>\n",
       "      <td>...</td>\n",
       "      <td>...</td>\n",
       "      <td>...</td>\n",
       "      <td>...</td>\n",
       "    </tr>\n",
       "    <tr>\n",
       "      <th>2439</th>\n",
       "      <td>WTO 2012 Since original investigation Russia ...</td>\n",
       "      <td>0</td>\n",
       "      <td>0</td>\n",
       "      <td>0</td>\n",
       "      <td>0</td>\n",
       "      <td>1</td>\n",
       "      <td>0</td>\n",
       "      <td>2</td>\n",
       "    </tr>\n",
       "    <tr>\n",
       "      <th>2440</th>\n",
       "      <td>In case imposing non-market economy rate inco...</td>\n",
       "      <td>0</td>\n",
       "      <td>0</td>\n",
       "      <td>0</td>\n",
       "      <td>0</td>\n",
       "      <td>0</td>\n",
       "      <td>0</td>\n",
       "      <td>1</td>\n",
       "    </tr>\n",
       "    <tr>\n",
       "      <th>2441</th>\n",
       "      <td>name Such deal easier get done universal WTO ...</td>\n",
       "      <td>0</td>\n",
       "      <td>0</td>\n",
       "      <td>0</td>\n",
       "      <td>0</td>\n",
       "      <td>0</td>\n",
       "      <td>0</td>\n",
       "      <td>1</td>\n",
       "    </tr>\n",
       "    <tr>\n",
       "      <th>2442</th>\n",
       "      <td>WTO deal They also tend go deeper WTO effort ...</td>\n",
       "      <td>0</td>\n",
       "      <td>0</td>\n",
       "      <td>0</td>\n",
       "      <td>0</td>\n",
       "      <td>0</td>\n",
       "      <td>0</td>\n",
       "      <td>2</td>\n",
       "    </tr>\n",
       "    <tr>\n",
       "      <th>2443</th>\n",
       "      <td>Sierra Leone coming anti-poverty organization...</td>\n",
       "      <td>0</td>\n",
       "      <td>0</td>\n",
       "      <td>0</td>\n",
       "      <td>0</td>\n",
       "      <td>0</td>\n",
       "      <td>0</td>\n",
       "      <td>1</td>\n",
       "    </tr>\n",
       "  </tbody>\n",
       "</table>\n",
       "<p>4612 rows × 8 columns</p>\n",
       "</div>"
      ],
      "text/plain": [
       "                                                snippet  label  f1  f2  f3  \\\n",
       "0      illegally tipping brother earnings medical de...      1   0   1   0   \n",
       "1      In 2012 According court filing bond insurer A...      1   0   0   0   \n",
       "2      might come way HONG KONG Reuters - Alibaba Gr...      1   0   2   0   \n",
       "3      candidate top job company including BlackRock...      1   0   2   0   \n",
       "4      Jan Hatzius : NEW YORK Reuters - American Int...      1   0   2   0   \n",
       "...                                                 ...    ...  ..  ..  ..   \n",
       "2439   WTO 2012 Since original investigation Russia ...      0   0   0   0   \n",
       "2440   In case imposing non-market economy rate inco...      0   0   0   0   \n",
       "2441   name Such deal easier get done universal WTO ...      0   0   0   0   \n",
       "2442   WTO deal They also tend go deeper WTO effort ...      0   0   0   0   \n",
       "2443   Sierra Leone coming anti-poverty organization...      0   0   0   0   \n",
       "\n",
       "      f4  f5  f6  \n",
       "0      0   0   0  \n",
       "1      1   0   1  \n",
       "2      0   0   2  \n",
       "3      0   0   0  \n",
       "4      0   0   2  \n",
       "...   ..  ..  ..  \n",
       "2439   1   0   2  \n",
       "2440   0   0   1  \n",
       "2441   0   0   1  \n",
       "2442   0   0   2  \n",
       "2443   0   0   1  \n",
       "\n",
       "[4612 rows x 8 columns]"
      ]
     },
     "execution_count": 272,
     "metadata": {},
     "output_type": "execute_result"
    }
   ],
   "source": [
    "co_training_data"
   ]
  },
  {
   "cell_type": "markdown",
   "metadata": {},
   "source": [
    "#### Train Logit Model"
   ]
  },
  {
   "cell_type": "code",
   "execution_count": 273,
   "metadata": {},
   "outputs": [
    {
     "data": {
      "text/plain": [
       "<matplotlib.axes._subplots.AxesSubplot at 0x2282092b708>"
      ]
     },
     "execution_count": 273,
     "metadata": {},
     "output_type": "execute_result"
    },
    {
     "data": {
      "image/png": "[encoded data removed]",
      "text/plain": [
       "<Figure size 432x288 with 2 Axes>"
      ]
     },
     "metadata": {
      "needs_background": "light"
     },
     "output_type": "display_data"
    }
   ],
   "source": [
    "X = co_training_data[['f1','f2','f3','f4','f5','f6']]\n",
    "Y = co_training_data[['label']]\n",
    "X_train, X_test, Y_train, Y_test = train_test_split(X,Y,train_size = 0.9)\n",
    "co_logit = LogisticRegression()\n",
    "co_logit.fit(X_train, Y_train.values.ravel())\n",
    "Y_pred = co_logit.predict(X_test)\n",
    "co_matrix = pd.crosstab(Y_test.values.ravel(), Y_pred, rownames=['Actual'], colnames=['Predicted'])\n",
    "sn.heatmap(co_matrix, annot=True, cmap=\"YlGnBu\")"
   ]
  },
  {
   "cell_type": "code",
   "execution_count": 274,
   "metadata": {},
   "outputs": [
    {
     "data": {
      "text/plain": [
       "0.7294372294372294"
      ]
     },
     "execution_count": 274,
     "metadata": {},
     "output_type": "execute_result"
    }
   ],
   "source": [
    "metrics.accuracy_score(Y_test.values.ravel(), Y_pred)"
   ]
  },
  {
   "cell_type": "code",
   "execution_count": 497,
   "metadata": {},
   "outputs": [
    {
     "data": {
      "text/plain": [
       "array([[ 2.74735559,  1.00180651,  0.70953877, -0.08538141,  1.29224194,\n",
       "         0.03083119]])"
      ]
     },
     "execution_count": 497,
     "metadata": {},
     "output_type": "execute_result"
    }
   ],
   "source": [
    "co_logit.coef_"
   ]
  },
  {
   "cell_type": "markdown",
   "metadata": {},
   "source": [
    "#### Raw Data Results"
   ]
  },
  {
   "cell_type": "code",
   "execution_count": 340,
   "metadata": {},
   "outputs": [],
   "source": [
    "## Final result:\n",
    "co_name = []\n",
    "co_snippet = []"
   ]
  },
  {
   "cell_type": "code",
   "execution_count": 341,
   "metadata": {},
   "outputs": [
    {
     "name": "stdout",
     "output_type": "stream",
     "text": [
      "0\n",
      "30\n",
      "60\n",
      "90\n",
      "120\n",
      "150\n",
      "180\n",
      "210\n",
      "240\n",
      "270\n",
      "300\n",
      "330\n",
      "360\n"
     ]
    }
   ],
   "source": [
    "## 2013\n",
    "## looper over all files\n",
    "\n",
    "text_2013 = glob.glob(\"C:/Users/James Jia/Desktop/HW3/2013/*.txt\")\n",
    "\n",
    "looper = 0\n",
    "\n",
    "for file_dir in text_2013:\n",
    "    \n",
    "    if (looper % 30 == 0):\n",
    "        print(looper)\n",
    "    looper = looper + 1\n",
    "    \n",
    "    toread = open(file_dir, \"r\", encoding='utf-8', errors='ignore').read()\n",
    "    \n",
    "    ## getting the spacy NER results\n",
    "    nlp = spacy.load(\"en_core_web_sm\")\n",
    "    doc = nlp(toread)\n",
    "    \n",
    "    ## text processing and tokenizing:\n",
    "    toread_token = toread.replace(\"\\\\\",\" \").replace(\"\\n\",\" \").replace('\"',\" \").replace(\",\",\"\")\n",
    "    toread_token = word_tokenize(toread_token)\n",
    "    toread_token = [i for i in toread_token if not i in stop_word]\n",
    "    toread_token = [ lemma.lemmatize(token) for token in toread_token ]\n",
    "    toread_token = [ token for token in toread_token if token != '.']\n",
    "    toread_token = [ token for token in toread_token if token != '(']\n",
    "    toread_token = [ token for token in toread_token if token != ')']\n",
    "    \n",
    "    ## adding new names + create snippets\n",
    "    for ent in doc.ents:\n",
    "        tokens = ent.text.split()\n",
    "        name = ent.text\n",
    "        if (ent.label_ == \"ORG\") and (name not in co_name):\n",
    "            co_name.append(name)\n",
    "            loc = find_name_match(name, toread_token)\n",
    "            sni = create_snippet(loc, toread_token)\n",
    "            co_snippet.append(sni)    "
   ]
  },
  {
   "cell_type": "code",
   "execution_count": 342,
   "metadata": {},
   "outputs": [
    {
     "name": "stdout",
     "output_type": "stream",
     "text": [
      "0\n",
      "30\n",
      "60\n",
      "90\n",
      "120\n",
      "150\n",
      "180\n",
      "210\n",
      "240\n",
      "270\n",
      "300\n",
      "330\n",
      "360\n"
     ]
    }
   ],
   "source": [
    "## 2014\n",
    "## looper over all files\n",
    "\n",
    "text_2014 = glob.glob(\"C:/Users/James Jia/Desktop/HW3/2014/*.txt\")\n",
    "\n",
    "looper = 0\n",
    "\n",
    "for file_dir in text_2014:\n",
    "    \n",
    "    if (looper % 30 == 0):\n",
    "        print(looper)\n",
    "    looper = looper + 1\n",
    "    \n",
    "    toread = open(file_dir, \"r\", encoding='utf-8', errors='ignore').read()\n",
    "    \n",
    "    ## getting the spacy NER results\n",
    "    nlp = spacy.load(\"en_core_web_sm\")\n",
    "    doc = nlp(toread)\n",
    "    \n",
    "    ## text processing and tokenizing:\n",
    "    toread_token = toread.replace(\"\\\\\",\" \").replace(\"\\n\",\" \").replace('\"',\" \").replace(\",\",\"\")\n",
    "    toread_token = word_tokenize(toread_token)\n",
    "    toread_token = [i for i in toread_token if not i in stop_word]\n",
    "    toread_token = [ lemma.lemmatize(token) for token in toread_token ]\n",
    "    toread_token = [ token for token in toread_token if token != '.']\n",
    "    toread_token = [ token for token in toread_token if token != '(']\n",
    "    toread_token = [ token for token in toread_token if token != ')']\n",
    "    \n",
    "    ## adding new names + create snippets\n",
    "    for ent in doc.ents:\n",
    "        tokens = ent.text.split()\n",
    "        name = ent.text\n",
    "        if (ent.label_ == \"ORG\") and (name not in co_name):\n",
    "            co_name.append(name)\n",
    "            loc = find_name_match(name, toread_token)\n",
    "            sni = create_snippet(loc, toread_token)\n",
    "            co_snippet.append(sni)    "
   ]
  },
  {
   "cell_type": "code",
   "execution_count": 343,
   "metadata": {},
   "outputs": [
    {
     "data": {
      "text/plain": [
       "61809"
      ]
     },
     "execution_count": 343,
     "metadata": {},
     "output_type": "execute_result"
    }
   ],
   "source": [
    "len(co_name)"
   ]
  },
  {
   "cell_type": "code",
   "execution_count": 345,
   "metadata": {},
   "outputs": [],
   "source": [
    "co_df = pd.DataFrame(list(zip(co_name,co_snippet)), \n",
    "                      columns =['name', 'snippet'])"
   ]
  },
  {
   "cell_type": "code",
   "execution_count": 346,
   "metadata": {},
   "outputs": [
    {
     "data": {
      "text/html": [
       "<div>\n",
       "<style scoped>\n",
       "    .dataframe tbody tr th:only-of-type {\n",
       "        vertical-align: middle;\n",
       "    }\n",
       "\n",
       "    .dataframe tbody tr th {\n",
       "        vertical-align: top;\n",
       "    }\n",
       "\n",
       "    .dataframe thead th {\n",
       "        text-align: right;\n",
       "    }\n",
       "</style>\n",
       "<table border=\"1\" class=\"dataframe\">\n",
       "  <thead>\n",
       "    <tr style=\"text-align: right;\">\n",
       "      <th></th>\n",
       "      <th>name</th>\n",
       "      <th>snippet</th>\n",
       "    </tr>\n",
       "  </thead>\n",
       "  <tbody>\n",
       "    <tr>\n",
       "      <th>0</th>\n",
       "      <td>PMI</td>\n",
       "      <td>Earlier today strong South Korean PMI report ...</td>\n",
       "    </tr>\n",
       "    <tr>\n",
       "      <th>1</th>\n",
       "      <td>House</td>\n",
       "      <td>PMI 47.4 50.6 From report : With House prepar...</td>\n",
       "    </tr>\n",
       "    <tr>\n",
       "      <th>2</th>\n",
       "      <td>Senate</td>\n",
       "      <td>From report : With House prepared vote Senate...</td>\n",
       "    </tr>\n",
       "    <tr>\n",
       "      <th>3</th>\n",
       "      <td>the White House</td>\n",
       "      <td>Earlier today strong South Korean PMI report The</td>\n",
       "    </tr>\n",
       "    <tr>\n",
       "      <th>4</th>\n",
       "      <td>GOP House</td>\n",
       "      <td>Senate Minority Leader Mitch McConnell conser...</td>\n",
       "    </tr>\n",
       "  </tbody>\n",
       "</table>\n",
       "</div>"
      ],
      "text/plain": [
       "              name                                            snippet\n",
       "0              PMI   Earlier today strong South Korean PMI report ...\n",
       "1            House   PMI 47.4 50.6 From report : With House prepar...\n",
       "2           Senate   From report : With House prepared vote Senate...\n",
       "3  the White House   Earlier today strong South Korean PMI report The\n",
       "4        GOP House   Senate Minority Leader Mitch McConnell conser..."
      ]
     },
     "execution_count": 346,
     "metadata": {},
     "output_type": "execute_result"
    }
   ],
   "source": [
    "co_df.head(5)"
   ]
  },
  {
   "cell_type": "code",
   "execution_count": 347,
   "metadata": {},
   "outputs": [],
   "source": [
    "co_df['f1'] = co_df.apply(co_f1, axis=1)\n",
    "co_df['f2'] = co_df.apply(co_f2, axis=1)\n",
    "co_df['f3'] = co_df.apply(co_f3, axis=1)\n",
    "co_df['f4'] = co_df.apply(co_f4, axis=1)\n",
    "co_df['f5'] = co_df.apply(co_f5, axis=1)\n",
    "co_df['f6'] = co_df.apply(co_f6, axis=1)"
   ]
  },
  {
   "cell_type": "code",
   "execution_count": 348,
   "metadata": {},
   "outputs": [
    {
     "name": "stdout",
     "output_type": "stream",
     "text": [
      "0.16957999514445254\n",
      "1.1020878854090799\n",
      "0.3026219956300073\n",
      "0.49902889050740473\n",
      "0.3877154649186696\n",
      "0.6689730517115805\n"
     ]
    }
   ],
   "source": [
    "co_df_x = co_df[['f1','f2','f3','f4','f5','f6']]\n",
    "co_df_y = co_logit.predict(co_df_x)\n",
    "co_df['decision'] = co_df_y\n",
    "co_df_result = co_df[co_df['decision'] == 1]\n",
    "co_feature = ['f1','f2','f3','f4','f5','f6']\n",
    "for i in co_feature:\n",
    "    print(co_df_result[i].mean())"
   ]
  },
  {
   "cell_type": "code",
   "execution_count": 349,
   "metadata": {},
   "outputs": [
    {
     "data": {
      "text/plain": [
       "8238"
      ]
     },
     "execution_count": 349,
     "metadata": {},
     "output_type": "execute_result"
    }
   ],
   "source": [
    "len(co_df_result.name)"
   ]
  },
  {
   "cell_type": "code",
   "execution_count": 351,
   "metadata": {},
   "outputs": [],
   "source": [
    "## output\n",
    "\n",
    "co_df_result.to_csv('C:/Users/James Jia/Desktop/HW3/output/all_company.csv', \n",
    "                    columns = ['name'], index=False, header=False)"
   ]
  },
  {
   "cell_type": "markdown",
   "metadata": {},
   "source": [
    "## PART III -- PERCENTAGE"
   ]
  },
  {
   "cell_type": "code",
   "execution_count": 428,
   "metadata": {},
   "outputs": [
    {
     "name": "stdout",
     "output_type": "stream",
     "text": [
      "0\n",
      "500\n",
      "1000\n",
      "1500\n",
      "2000\n"
     ]
    }
   ],
   "source": [
    "## create snippet column in percentage values\n",
    "percent['snippet'] = ''\n",
    "\n",
    "snippet = []\n",
    "\n",
    "for index, row in percent.iterrows():\n",
    "    \n",
    "    ## status monitor\n",
    "    if (index % 500 == 0):\n",
    "        print(index)\n",
    "    \n",
    "    result = find_name_match(row['name'], text)\n",
    "    if (result != 0):\n",
    "        sni = create_snippet(result, text)\n",
    "    else:\n",
    "        sni = ''\n",
    "    snippet.append(sni)"
   ]
  },
  {
   "cell_type": "code",
   "execution_count": 430,
   "metadata": {},
   "outputs": [
    {
     "data": {
      "text/plain": [
       "2368"
      ]
     },
     "execution_count": 430,
     "metadata": {},
     "output_type": "execute_result"
    }
   ],
   "source": [
    "percent['snippet'] = snippet\n",
    "len(percent.name)"
   ]
  },
  {
   "cell_type": "code",
   "execution_count": 431,
   "metadata": {},
   "outputs": [
    {
     "data": {
      "text/plain": [
       "1777"
      ]
     },
     "execution_count": 431,
     "metadata": {},
     "output_type": "execute_result"
    }
   ],
   "source": [
    "percent = percent[percent['snippet'] != '']\n",
    "percent = percent.reset_index(drop=True)\n",
    "len(percent.name)"
   ]
  },
  {
   "cell_type": "code",
   "execution_count": 432,
   "metadata": {},
   "outputs": [
    {
     "data": {
      "text/html": [
       "<div>\n",
       "<style scoped>\n",
       "    .dataframe tbody tr th:only-of-type {\n",
       "        vertical-align: middle;\n",
       "    }\n",
       "\n",
       "    .dataframe tbody tr th {\n",
       "        vertical-align: top;\n",
       "    }\n",
       "\n",
       "    .dataframe thead th {\n",
       "        text-align: right;\n",
       "    }\n",
       "</style>\n",
       "<table border=\"1\" class=\"dataframe\">\n",
       "  <thead>\n",
       "    <tr style=\"text-align: right;\">\n",
       "      <th></th>\n",
       "      <th>name</th>\n",
       "      <th>snippet</th>\n",
       "    </tr>\n",
       "  </thead>\n",
       "  <tbody>\n",
       "    <tr>\n",
       "      <th>0</th>\n",
       "      <td>66 %</td>\n",
       "      <td>tech sector whole—the Nasdaq actually histori...</td>\n",
       "    </tr>\n",
       "    <tr>\n",
       "      <th>1</th>\n",
       "      <td>40 %</td>\n",
       "      <td>bear market United States The Nasdaq still 40...</td>\n",
       "    </tr>\n",
       "    <tr>\n",
       "      <th>2</th>\n",
       "      <td>90 %</td>\n",
       "      <td>'s buying pricey item ? Wiley say 90 % sale c...</td>\n",
       "    </tr>\n",
       "    <tr>\n",
       "      <th>3</th>\n",
       "      <td>49 %</td>\n",
       "      <td>acquire Zipcar $ 12.25 per share cash 49 % pr...</td>\n",
       "    </tr>\n",
       "    <tr>\n",
       "      <th>4</th>\n",
       "      <td>100 %</td>\n",
       "      <td>Fiscal Cliff fight since tax n't rise 100 % t...</td>\n",
       "    </tr>\n",
       "  </tbody>\n",
       "</table>\n",
       "</div>"
      ],
      "text/plain": [
       "    name                                            snippet\n",
       "0   66 %   tech sector whole—the Nasdaq actually histori...\n",
       "1   40 %   bear market United States The Nasdaq still 40...\n",
       "2   90 %   's buying pricey item ? Wiley say 90 % sale c...\n",
       "3   49 %   acquire Zipcar $ 12.25 per share cash 49 % pr...\n",
       "4  100 %   Fiscal Cliff fight since tax n't rise 100 % t..."
      ]
     },
     "execution_count": 432,
     "metadata": {},
     "output_type": "execute_result"
    }
   ],
   "source": [
    "percent.head(5)"
   ]
  },
  {
   "cell_type": "code",
   "execution_count": 433,
   "metadata": {},
   "outputs": [
    {
     "name": "stdout",
     "output_type": "stream",
     "text": [
      " tech sector whole—the Nasdaq actually historically positive 66 % time period Seasonal Odds When following\n",
      " 500 million equity Supervalu share collapsed nearly 100 percent since June 2007 high thanks competition\n",
      " electric car reach 440000 unit 2012 -- 73 % improvement 2011 reaching 850000 unit sale\n",
      " second-largest car maker said sale December slid 2.5 percent 47833 car year earlier But Ford\n",
      " Company $ 2 billion investment empire exchange 5.63 % stake EBX However Mubadala 's investment\n",
      " That confidence may soon start translating hiring Eighty percent wealthy business owner say plan recruit\n",
      " S & amp ; P 500 point half percent new all-time high Mainstream market maven\n",
      " 500 climbed 128 percent period earnings grew 129 percent Yet pundit pointing easy monetary continue\n",
      " today 2 hour trading intra-day range SPY 0.27 % Should hold would 4th narrowest intra-day\n",
      " benchmark FTSE 100 index fell 42.14 point 0.66 percent 6358.31 point 8:40 On Saturday Beijing\n",
      " Cap Bull 3X Shares gross expense ratio 1.07 percent net expense ratio 0.95 percent The\n",
      " Bloomberg report : ... inventory accumulation whichcontributed 1.66 percent 4 percent gain indicates thatthe Bloomberg\n",
      " 's seven day repo rose record high 10.77 % Shanghai highest since March 2003 according\n",
      " according Bloomberg* Meanwhile one-day rate hit record 12.85 % And Zerohedge reported overnight repo hit\n",
      " one weakest economic recovery For instance stock 144 % March 9 2009 low almost double\n",
      " $ 576 million Carlyle Group owns another 17.8 percent Brands Partners owns 5 percent Remo\n",
      " yield 10-year Treasury 6 basis point higher 2.13 % And yen sliding dollar Click detail\n",
      " % This follows brutal session Japan Nikkei 2.56 % The big story : A sharp\n",
      " fourth quarter The data showed profit surged 20.4 percent Q4 negative growth first three quarter\n",
      " founded company 1810 coffee mill manufacturer hold 25.4 percent stake command 38.1 percent voting right\n",
      " sale 23.5 trillion yen Toyota share closed 3.37 percent 6430 yen Tokyo Friday result released\n",
      " forecast real GDP growth 1/4 percentage point 31/4 % 2014H2 FREE AppDownload Flickr / Nick\n",
      " averaged 4.17 percent week 4 basis point 4.13 percent week The survey cover 75 percent\n",
      " ; opy.n & gt ; stake company 4.78 percent 6.42 percent Carlsberg said month expected\n",
      " scenario But Goldman 's loss would stunning 49.6 percent Goldman n't giant C & amp\n",
      " huge surge bearish sentiment climbed 26.3 percent 54.5 percent bearish stock market week ending April\n",
      " onshore China debt risen 120 basis point 6.70 percent The AAA-rated curve moved 80 basis\n",
      " quantitatively oriented PMs The Millennium International Fund 7.13 percent July according person familiar return SAC\n",
      " & gt ; The U.S. company owns 8.21 percent English Premier League club 's Class\n",
      " January In comparison Japanese equity getting smoked 9.48 % since January 11 % past three\n"
     ]
    }
   ],
   "source": [
    "## features exploration\n",
    "\n",
    "for index, row in percent.iterrows():\n",
    "    if (index % 60 == 0):\n",
    "        print(row['snippet'])"
   ]
  },
  {
   "cell_type": "markdown",
   "metadata": {},
   "source": [
    "#### Create negative samples"
   ]
  },
  {
   "cell_type": "code",
   "execution_count": 434,
   "metadata": {},
   "outputs": [],
   "source": [
    "spacy_percentage = []\n",
    "spacy_percentage_snippet = []\n",
    "spacy_cardinal = []\n",
    "spacy_cardinal_snippet = []"
   ]
  },
  {
   "cell_type": "code",
   "execution_count": 436,
   "metadata": {},
   "outputs": [
    {
     "name": "stdout",
     "output_type": "stream",
     "text": [
      "0\n",
      "30\n",
      "60\n",
      "90\n",
      "120\n",
      "150\n",
      "180\n",
      "210\n",
      "240\n",
      "270\n",
      "300\n",
      "330\n",
      "360\n"
     ]
    }
   ],
   "source": [
    "## 2013\n",
    "## looper over all files\n",
    "\n",
    "text_2013 = glob.glob(\"C:/Users/James Jia/Desktop/HW3/2013/*.txt\")\n",
    "\n",
    "looper = 0\n",
    "\n",
    "for file_dir in text_2013:\n",
    "    \n",
    "    if (looper % 30 == 0):\n",
    "        print(looper)\n",
    "    looper = looper + 1\n",
    "    \n",
    "    toread = open(file_dir, \"r\", encoding='utf-8', errors='ignore').read()\n",
    "    \n",
    "    ## getting the spacy NER results\n",
    "    nlp = spacy.load(\"en_core_web_sm\")\n",
    "    doc = nlp(toread)\n",
    "    \n",
    "    ## text processing and tokenizing:\n",
    "    toread_token = toread.replace(\"\\\\\",\" \").replace(\"\\n\",\" \").replace('\"',\" \").replace(\",\",\"\")\n",
    "    toread_token = word_tokenize(toread_token)\n",
    "    toread_token = [i for i in toread_token if not i in stop_word]\n",
    "    toread_token = [ lemma.lemmatize(token) for token in toread_token ]\n",
    "    toread_token = [ token for token in toread_token if token != '.']\n",
    "    toread_token = [ token for token in toread_token if token != '(']\n",
    "    toread_token = [ token for token in toread_token if token != ')']\n",
    "    \n",
    "    ## adding new names + create snippets\n",
    "    for ent in doc.ents:\n",
    "        tokens = ent.text.split()\n",
    "        name = ent.text\n",
    "        if (ent.label_ == \"PERCENT\") and (name not in spacy_percentage):\n",
    "            spacy_percentage.append(name)\n",
    "            loc = find_name_match(name, toread_token)\n",
    "            sni = create_snippet(loc, toread_token)\n",
    "            spacy_percentage_snippet.append(sni)\n",
    "        elif (ent.label_ == \"CARDINAL\") and (name not in spacy_cardinal):\n",
    "            spacy_cardinal.append(name)\n",
    "            loc = find_name_match(name, toread_token)\n",
    "            sni = create_snippet(loc, toread_token)\n",
    "            spacy_cardinal_snippet.append(sni)"
   ]
  },
  {
   "cell_type": "code",
   "execution_count": 440,
   "metadata": {},
   "outputs": [
    {
     "name": "stdout",
     "output_type": "stream",
     "text": [
      "0\n",
      "30\n",
      "60\n",
      "90\n",
      "120\n",
      "150\n",
      "180\n",
      "210\n",
      "240\n",
      "270\n",
      "300\n",
      "330\n",
      "360\n"
     ]
    }
   ],
   "source": [
    "## 2014\n",
    "## looper over all files\n",
    "\n",
    "text_2014 = glob.glob(\"C:/Users/James Jia/Desktop/HW3/2014/*.txt\")\n",
    "\n",
    "looper = 0\n",
    "\n",
    "for file_dir in text_2014:\n",
    "    \n",
    "    if (looper % 30 == 0):\n",
    "        print(looper)\n",
    "    looper = looper + 1\n",
    "    \n",
    "    toread = open(file_dir, \"r\", encoding='utf-8', errors='ignore').read()\n",
    "    \n",
    "    ## getting the spacy NER results\n",
    "    nlp = spacy.load(\"en_core_web_sm\")\n",
    "    doc = nlp(toread)\n",
    "    \n",
    "    ## text processing and tokenizing:\n",
    "    toread_token = toread.replace(\"\\\\\",\" \").replace(\"\\n\",\" \").replace('\"',\" \").replace(\",\",\"\")\n",
    "    toread_token = word_tokenize(toread_token)\n",
    "    toread_token = [i for i in toread_token if not i in stop_word]\n",
    "    toread_token = [ lemma.lemmatize(token) for token in toread_token ]\n",
    "    toread_token = [ token for token in toread_token if token != '.']\n",
    "    toread_token = [ token for token in toread_token if token != '(']\n",
    "    toread_token = [ token for token in toread_token if token != ')']\n",
    "    \n",
    "    ## adding new names + create snippets\n",
    "    for ent in doc.ents:\n",
    "        tokens = ent.text.split()\n",
    "        name = ent.text\n",
    "        if (ent.label_ == \"PERCENT\") and (name not in spacy_percentage):\n",
    "            spacy_percentage.append(name)\n",
    "            loc = find_name_match(name, toread_token)\n",
    "            sni = create_snippet(loc, toread_token)\n",
    "            spacy_percentage_snippet.append(sni)\n",
    "        elif (ent.label_ == \"CARDINAL\") and (name not in spacy_cardinal):\n",
    "            spacy_cardinal.append(name)\n",
    "            loc = find_name_match(name, toread_token)\n",
    "            sni = create_snippet(loc, toread_token)\n",
    "            spacy_cardinal_snippet.append(sni)"
   ]
  },
  {
   "cell_type": "code",
   "execution_count": 464,
   "metadata": {},
   "outputs": [
    {
     "data": {
      "text/plain": [
       "16802"
      ]
     },
     "execution_count": 464,
     "metadata": {},
     "output_type": "execute_result"
    }
   ],
   "source": [
    "len(spacy_cardinal_snippet)"
   ]
  },
  {
   "cell_type": "code",
   "execution_count": 465,
   "metadata": {},
   "outputs": [],
   "source": [
    "## balance out negative / positive rate\n",
    "spacy_card = spacy_cardinal[::10]\n",
    "spacy_card_snippet = spacy_cardinal_snippet[::10]"
   ]
  },
  {
   "cell_type": "code",
   "execution_count": 467,
   "metadata": {},
   "outputs": [],
   "source": [
    "card_df = pd.DataFrame(list(zip(spacy_card,spacy_card_snippet)), \n",
    "                      columns =['name', 'snippet'])"
   ]
  },
  {
   "cell_type": "code",
   "execution_count": 470,
   "metadata": {},
   "outputs": [],
   "source": [
    "percent['label'] = 1\n",
    "card_df['label'] = 0\n",
    "pc_training_data = pd.concat([percent, card_df])"
   ]
  },
  {
   "cell_type": "code",
   "execution_count": 471,
   "metadata": {},
   "outputs": [
    {
     "data": {
      "text/plain": [
       "3458"
      ]
     },
     "execution_count": 471,
     "metadata": {},
     "output_type": "execute_result"
    }
   ],
   "source": [
    "len(pc_training_data.name)"
   ]
  },
  {
   "cell_type": "markdown",
   "metadata": {},
   "source": [
    "#### Creating features"
   ]
  },
  {
   "cell_type": "code",
   "execution_count": 474,
   "metadata": {},
   "outputs": [],
   "source": [
    "## features\n",
    "\n",
    "## f1 : 9th position is the word \"perc\"\n",
    "def pc_f1(row):\n",
    "    snippet = row['snippet']\n",
    "    result = re.findall(r'^(?:[^ ]*\\ ){9}([^ ]*)', snippet)\n",
    "    if len(result) != 0:\n",
    "        result = result[0]\n",
    "        if \"percent\" in result:\n",
    "            return 1\n",
    "        else:\n",
    "            return 0\n",
    "    else:\n",
    "        return 0\n",
    "    \n",
    "## f2 : 9th position is the symbol \"%\"\n",
    "def pc_f2(row):\n",
    "    snippet = row['snippet']\n",
    "    result = re.findall(r'^(?:[^ ]*\\ ){9}([^ ]*)', snippet)\n",
    "    if len(result) != 0:\n",
    "        result = result[0]\n",
    "        if \"%\" in result:\n",
    "            return 1\n",
    "        else:\n",
    "            return 0\n",
    "    else:\n",
    "        return 0\n",
    "    \n",
    "## f3 : contain the word \"rose\", \"grew\", \"hit\", \"surge\", \"climb\"\n",
    "def pc_f3(row):\n",
    "    snippet = row['snippet']\n",
    "    result = []\n",
    "    result = result + re.findall(r'rose', snippet)\n",
    "    result = result + re.findall(r'grew', snippet)\n",
    "    result = result + re.findall(r'hit', snippet)\n",
    "    result = result + re.findall(r'surge', snippet)\n",
    "    result = result + re.findall(r'climb', snippet)\n",
    "    result = result + re.findall(r'increase', snippet)\n",
    "    length = len(result)\n",
    "    if length >= 1:\n",
    "        return 1\n",
    "    else:\n",
    "        return 0\n",
    "\n",
    "## f4 : contain the word \"decrease\", \"fell\", \"collapse\", \"slid\"\n",
    "def pc_f4(row):\n",
    "    snippet = row['snippet']\n",
    "    result = []\n",
    "    result = result + re.findall(r'decrease', snippet)\n",
    "    result = result + re.findall(r'fell', snippet)\n",
    "    result = result + re.findall(r'collapse', snippet)\n",
    "    result = result + re.findall(r'slid', snippet)\n",
    "    length = len(result)\n",
    "    if length >= 1:\n",
    "        return 1\n",
    "    else:\n",
    "        return 0\n",
    "\n",
    "## f5 : number of digit-based token\n",
    "def pc_f5(row):\n",
    "    snippet = row['snippet']\n",
    "    result = re.findall(r'[0-9]+(?=[\\ ])', snippet)\n",
    "    length = len(result)\n",
    "    return length"
   ]
  },
  {
   "cell_type": "code",
   "execution_count": 475,
   "metadata": {},
   "outputs": [],
   "source": [
    "pc_training_data['f1'] = pc_training_data.apply(pc_f1, axis=1)\n",
    "pc_training_data['f2'] = pc_training_data.apply(pc_f2, axis=1)\n",
    "pc_training_data['f3'] = pc_training_data.apply(pc_f3, axis=1)\n",
    "pc_training_data['f4'] = pc_training_data.apply(pc_f4, axis=1)\n",
    "pc_training_data['f5'] = pc_training_data.apply(pc_f5, axis=1)"
   ]
  },
  {
   "cell_type": "code",
   "execution_count": 476,
   "metadata": {},
   "outputs": [
    {
     "data": {
      "text/html": [
       "<div>\n",
       "<style scoped>\n",
       "    .dataframe tbody tr th:only-of-type {\n",
       "        vertical-align: middle;\n",
       "    }\n",
       "\n",
       "    .dataframe tbody tr th {\n",
       "        vertical-align: top;\n",
       "    }\n",
       "\n",
       "    .dataframe thead th {\n",
       "        text-align: right;\n",
       "    }\n",
       "</style>\n",
       "<table border=\"1\" class=\"dataframe\">\n",
       "  <thead>\n",
       "    <tr style=\"text-align: right;\">\n",
       "      <th></th>\n",
       "      <th>name</th>\n",
       "      <th>snippet</th>\n",
       "      <th>label</th>\n",
       "      <th>f1</th>\n",
       "      <th>f2</th>\n",
       "      <th>f3</th>\n",
       "      <th>f4</th>\n",
       "      <th>f5</th>\n",
       "    </tr>\n",
       "  </thead>\n",
       "  <tbody>\n",
       "    <tr>\n",
       "      <th>0</th>\n",
       "      <td>66 %</td>\n",
       "      <td>tech sector whole—the Nasdaq actually histori...</td>\n",
       "      <td>1</td>\n",
       "      <td>0</td>\n",
       "      <td>1</td>\n",
       "      <td>0</td>\n",
       "      <td>0</td>\n",
       "      <td>1</td>\n",
       "    </tr>\n",
       "    <tr>\n",
       "      <th>1</th>\n",
       "      <td>40 %</td>\n",
       "      <td>bear market United States The Nasdaq still 40...</td>\n",
       "      <td>1</td>\n",
       "      <td>0</td>\n",
       "      <td>1</td>\n",
       "      <td>0</td>\n",
       "      <td>0</td>\n",
       "      <td>1</td>\n",
       "    </tr>\n",
       "    <tr>\n",
       "      <th>2</th>\n",
       "      <td>90 %</td>\n",
       "      <td>'s buying pricey item ? Wiley say 90 % sale c...</td>\n",
       "      <td>1</td>\n",
       "      <td>0</td>\n",
       "      <td>1</td>\n",
       "      <td>0</td>\n",
       "      <td>0</td>\n",
       "      <td>1</td>\n",
       "    </tr>\n",
       "    <tr>\n",
       "      <th>3</th>\n",
       "      <td>49 %</td>\n",
       "      <td>acquire Zipcar $ 12.25 per share cash 49 % pr...</td>\n",
       "      <td>1</td>\n",
       "      <td>0</td>\n",
       "      <td>1</td>\n",
       "      <td>0</td>\n",
       "      <td>0</td>\n",
       "      <td>3</td>\n",
       "    </tr>\n",
       "    <tr>\n",
       "      <th>4</th>\n",
       "      <td>100 %</td>\n",
       "      <td>Fiscal Cliff fight since tax n't rise 100 % t...</td>\n",
       "      <td>1</td>\n",
       "      <td>0</td>\n",
       "      <td>1</td>\n",
       "      <td>0</td>\n",
       "      <td>0</td>\n",
       "      <td>1</td>\n",
       "    </tr>\n",
       "    <tr>\n",
       "      <th>...</th>\n",
       "      <td>...</td>\n",
       "      <td>...</td>\n",
       "      <td>...</td>\n",
       "      <td>...</td>\n",
       "      <td>...</td>\n",
       "      <td>...</td>\n",
       "      <td>...</td>\n",
       "      <td>...</td>\n",
       "    </tr>\n",
       "    <tr>\n",
       "      <th>1676</th>\n",
       "      <td>119.42</td>\n",
       "      <td>In currency dollar eased safe yen stand 119.4...</td>\n",
       "      <td>0</td>\n",
       "      <td>0</td>\n",
       "      <td>0</td>\n",
       "      <td>0</td>\n",
       "      <td>0</td>\n",
       "      <td>1</td>\n",
       "    </tr>\n",
       "    <tr>\n",
       "      <th>1677</th>\n",
       "      <td>Several dozen</td>\n",
       "      <td>much processing required firm hesitant follow...</td>\n",
       "      <td>0</td>\n",
       "      <td>0</td>\n",
       "      <td>0</td>\n",
       "      <td>0</td>\n",
       "      <td>0</td>\n",
       "      <td>0</td>\n",
       "    </tr>\n",
       "    <tr>\n",
       "      <th>1678</th>\n",
       "      <td>56.71</td>\n",
       "      <td>got weak 62.03 ruble per dollar closing 56.71...</td>\n",
       "      <td>0</td>\n",
       "      <td>0</td>\n",
       "      <td>0</td>\n",
       "      <td>0</td>\n",
       "      <td>0</td>\n",
       "      <td>3</td>\n",
       "    </tr>\n",
       "    <tr>\n",
       "      <th>1679</th>\n",
       "      <td>7/7</td>\n",
       "      <td>expected growth pic.twitter.com/0uyzhKu6Tr Ch...</td>\n",
       "      <td>0</td>\n",
       "      <td>0</td>\n",
       "      <td>0</td>\n",
       "      <td>0</td>\n",
       "      <td>0</td>\n",
       "      <td>5</td>\n",
       "    </tr>\n",
       "    <tr>\n",
       "      <th>1680</th>\n",
       "      <td>10.At</td>\n",
       "      <td>Walmart toddler pulled gun purseand accidenta...</td>\n",
       "      <td>0</td>\n",
       "      <td>0</td>\n",
       "      <td>0</td>\n",
       "      <td>0</td>\n",
       "      <td>0</td>\n",
       "      <td>0</td>\n",
       "    </tr>\n",
       "  </tbody>\n",
       "</table>\n",
       "<p>3458 rows × 8 columns</p>\n",
       "</div>"
      ],
      "text/plain": [
       "               name                                            snippet  label  \\\n",
       "0              66 %   tech sector whole—the Nasdaq actually histori...      1   \n",
       "1              40 %   bear market United States The Nasdaq still 40...      1   \n",
       "2              90 %   's buying pricey item ? Wiley say 90 % sale c...      1   \n",
       "3              49 %   acquire Zipcar $ 12.25 per share cash 49 % pr...      1   \n",
       "4             100 %   Fiscal Cliff fight since tax n't rise 100 % t...      1   \n",
       "...             ...                                                ...    ...   \n",
       "1676         119.42   In currency dollar eased safe yen stand 119.4...      0   \n",
       "1677  Several dozen   much processing required firm hesitant follow...      0   \n",
       "1678          56.71   got weak 62.03 ruble per dollar closing 56.71...      0   \n",
       "1679            7/7   expected growth pic.twitter.com/0uyzhKu6Tr Ch...      0   \n",
       "1680          10.At   Walmart toddler pulled gun purseand accidenta...      0   \n",
       "\n",
       "      f1  f2  f3  f4  f5  \n",
       "0      0   1   0   0   1  \n",
       "1      0   1   0   0   1  \n",
       "2      0   1   0   0   1  \n",
       "3      0   1   0   0   3  \n",
       "4      0   1   0   0   1  \n",
       "...   ..  ..  ..  ..  ..  \n",
       "1676   0   0   0   0   1  \n",
       "1677   0   0   0   0   0  \n",
       "1678   0   0   0   0   3  \n",
       "1679   0   0   0   0   5  \n",
       "1680   0   0   0   0   0  \n",
       "\n",
       "[3458 rows x 8 columns]"
      ]
     },
     "execution_count": 476,
     "metadata": {},
     "output_type": "execute_result"
    }
   ],
   "source": [
    "pc_training_data"
   ]
  },
  {
   "cell_type": "markdown",
   "metadata": {},
   "source": [
    "#### Train Logit Model"
   ]
  },
  {
   "cell_type": "code",
   "execution_count": 477,
   "metadata": {},
   "outputs": [
    {
     "data": {
      "text/plain": [
       "<matplotlib.axes._subplots.AxesSubplot at 0x2281a610d48>"
      ]
     },
     "execution_count": 477,
     "metadata": {},
     "output_type": "execute_result"
    },
    {
     "data": {
      "image/png": "[encoded data removed]",
      "text/plain": [
       "<Figure size 432x288 with 2 Axes>"
      ]
     },
     "metadata": {
      "needs_background": "light"
     },
     "output_type": "display_data"
    }
   ],
   "source": [
    "X = pc_training_data[['f1','f2','f3','f4','f5']]\n",
    "Y = pc_training_data[['label']]\n",
    "X_train, X_test, Y_train, Y_test = train_test_split(X,Y,train_size = 0.9)\n",
    "pc_logit = LogisticRegression()\n",
    "pc_logit.fit(X_train, Y_train.values.ravel())\n",
    "Y_pred = pc_logit.predict(X_test)\n",
    "pc_matrix = pd.crosstab(Y_test.values.ravel(), Y_pred, rownames=['Actual'], colnames=['Predicted'])\n",
    "sn.heatmap(pc_matrix, annot=True, cmap=\"YlGnBu\")"
   ]
  },
  {
   "cell_type": "code",
   "execution_count": 478,
   "metadata": {},
   "outputs": [
    {
     "data": {
      "text/plain": [
       "0.9971098265895953"
      ]
     },
     "execution_count": 478,
     "metadata": {},
     "output_type": "execute_result"
    }
   ],
   "source": [
    "metrics.accuracy_score(Y_test.values.ravel(), Y_pred)"
   ]
  },
  {
   "cell_type": "code",
   "execution_count": 499,
   "metadata": {},
   "outputs": [
    {
     "data": {
      "text/plain": [
       "array([[7.8224008 , 8.45701683, 0.18023379, 0.08606977, 0.40737967]])"
      ]
     },
     "execution_count": 499,
     "metadata": {},
     "output_type": "execute_result"
    }
   ],
   "source": [
    "pc_logit.coef_"
   ]
  },
  {
   "cell_type": "markdown",
   "metadata": {},
   "source": [
    "#### Raw Data Result"
   ]
  },
  {
   "cell_type": "code",
   "execution_count": 450,
   "metadata": {},
   "outputs": [],
   "source": [
    "spacy_percent = [element.replace(\"%\",\" %\") for i, element in enumerate(spacy_percentage)]"
   ]
  },
  {
   "cell_type": "code",
   "execution_count": 463,
   "metadata": {},
   "outputs": [
    {
     "name": "stdout",
     "output_type": "stream",
     "text": [
      "0\n",
      "1000\n",
      "2000\n",
      "3000\n",
      "4000\n",
      "5000\n",
      "6000\n",
      "7000\n",
      "8000\n",
      "9000\n",
      "10000\n"
     ]
    }
   ],
   "source": [
    "## create snippet column in percentage values\n",
    "spacy_snippet = []\n",
    "\n",
    "for i, element in enumerate(spacy_percent):\n",
    "    \n",
    "    ## status monitor\n",
    "    if (i % 1000 == 0):\n",
    "        print(i)\n",
    "    \n",
    "    result = find_name_match(element, text)\n",
    "    if (result != 0):\n",
    "        sni = create_snippet(result, text)\n",
    "    else:\n",
    "        sni = ''\n",
    "    spacy_snippet.append(sni)"
   ]
  },
  {
   "cell_type": "code",
   "execution_count": 479,
   "metadata": {},
   "outputs": [
    {
     "data": {
      "text/plain": [
       "10002"
      ]
     },
     "execution_count": 479,
     "metadata": {},
     "output_type": "execute_result"
    }
   ],
   "source": [
    "len(spacy_percent)"
   ]
  },
  {
   "cell_type": "code",
   "execution_count": 480,
   "metadata": {},
   "outputs": [
    {
     "data": {
      "text/plain": [
       "10002"
      ]
     },
     "execution_count": 480,
     "metadata": {},
     "output_type": "execute_result"
    }
   ],
   "source": [
    "len(spacy_snippet)"
   ]
  },
  {
   "cell_type": "code",
   "execution_count": 481,
   "metadata": {},
   "outputs": [
    {
     "data": {
      "text/plain": [
       "16802"
      ]
     },
     "execution_count": 481,
     "metadata": {},
     "output_type": "execute_result"
    }
   ],
   "source": [
    "len(spacy_cardinal)"
   ]
  },
  {
   "cell_type": "code",
   "execution_count": 482,
   "metadata": {},
   "outputs": [
    {
     "data": {
      "text/plain": [
       "16802"
      ]
     },
     "execution_count": 482,
     "metadata": {},
     "output_type": "execute_result"
    }
   ],
   "source": [
    "len(spacy_cardinal_snippet)"
   ]
  },
  {
   "cell_type": "code",
   "execution_count": 483,
   "metadata": {},
   "outputs": [],
   "source": [
    "pc_name = spacy_percent + spacy_cardinal"
   ]
  },
  {
   "cell_type": "code",
   "execution_count": 484,
   "metadata": {},
   "outputs": [],
   "source": [
    "pc_snippet = spacy_snippet + spacy_cardinal_snippet"
   ]
  },
  {
   "cell_type": "code",
   "execution_count": 485,
   "metadata": {},
   "outputs": [],
   "source": [
    "pc_df = pd.DataFrame(list(zip(pc_name,pc_snippet)), \n",
    "                      columns =['name', 'snippet'])"
   ]
  },
  {
   "cell_type": "code",
   "execution_count": 487,
   "metadata": {},
   "outputs": [],
   "source": [
    "pc_df = pc_df[pc_df['snippet'] != '']\n",
    "pc_df = pc_df.reset_index(drop=True)"
   ]
  },
  {
   "cell_type": "code",
   "execution_count": 489,
   "metadata": {},
   "outputs": [
    {
     "data": {
      "text/html": [
       "<div>\n",
       "<style scoped>\n",
       "    .dataframe tbody tr th:only-of-type {\n",
       "        vertical-align: middle;\n",
       "    }\n",
       "\n",
       "    .dataframe tbody tr th {\n",
       "        vertical-align: top;\n",
       "    }\n",
       "\n",
       "    .dataframe thead th {\n",
       "        text-align: right;\n",
       "    }\n",
       "</style>\n",
       "<table border=\"1\" class=\"dataframe\">\n",
       "  <thead>\n",
       "    <tr style=\"text-align: right;\">\n",
       "      <th></th>\n",
       "      <th>name</th>\n",
       "      <th>snippet</th>\n",
       "    </tr>\n",
       "  </thead>\n",
       "  <tbody>\n",
       "    <tr>\n",
       "      <th>0</th>\n",
       "      <td>1.2 %</td>\n",
       "      <td>'s trading right high day Hong Kong 1.2 % EAR...</td>\n",
       "    </tr>\n",
       "    <tr>\n",
       "      <th>1</th>\n",
       "      <td>47 %</td>\n",
       "      <td>-- Congress Just Socked It To The 47 % The Se...</td>\n",
       "    </tr>\n",
       "    <tr>\n",
       "      <th>2</th>\n",
       "      <td>39.6 %</td>\n",
       "      <td>$ 450000 -- even much back Clinton-era 39.6 %...</td>\n",
       "    </tr>\n",
       "    <tr>\n",
       "      <th>3</th>\n",
       "      <td>4.2 %</td>\n",
       "      <td>Senate agreed raise payroll tax working Ameri...</td>\n",
       "    </tr>\n",
       "    <tr>\n",
       "      <th>4</th>\n",
       "      <td>35 %</td>\n",
       "      <td>year — see income tax rise modestly 35 % 39.6...</td>\n",
       "    </tr>\n",
       "  </tbody>\n",
       "</table>\n",
       "</div>"
      ],
      "text/plain": [
       "     name                                            snippet\n",
       "0   1.2 %   's trading right high day Hong Kong 1.2 % EAR...\n",
       "1    47 %   -- Congress Just Socked It To The 47 % The Se...\n",
       "2  39.6 %   $ 450000 -- even much back Clinton-era 39.6 %...\n",
       "3   4.2 %   Senate agreed raise payroll tax working Ameri...\n",
       "4    35 %   year — see income tax rise modestly 35 % 39.6..."
      ]
     },
     "execution_count": 489,
     "metadata": {},
     "output_type": "execute_result"
    }
   ],
   "source": [
    "pc_df.head(5)"
   ]
  },
  {
   "cell_type": "code",
   "execution_count": 490,
   "metadata": {},
   "outputs": [],
   "source": [
    "pc_df['f1'] = pc_df.apply(pc_f1, axis=1)\n",
    "pc_df['f2'] = pc_df.apply(pc_f2, axis=1)\n",
    "pc_df['f3'] = pc_df.apply(pc_f3, axis=1)\n",
    "pc_df['f4'] = pc_df.apply(pc_f4, axis=1)\n",
    "pc_df['f5'] = pc_df.apply(pc_f5, axis=1)"
   ]
  },
  {
   "cell_type": "code",
   "execution_count": 491,
   "metadata": {},
   "outputs": [
    {
     "name": "stdout",
     "output_type": "stream",
     "text": [
      "0.40831408775981526\n",
      "0.5914549653579677\n",
      "0.14503464203233257\n",
      "0.060277136258660505\n",
      "2.338568129330254\n"
     ]
    }
   ],
   "source": [
    "pc_df_x = pc_df[['f1','f2','f3','f4','f5']]\n",
    "pc_df_y = pc_logit.predict(pc_df_x)\n",
    "pc_df['decision'] = pc_df_y\n",
    "pc_df_result = pc_df[pc_df['decision'] == 1]\n",
    "pc_feature = ['f1','f2','f3','f4','f5']\n",
    "for i in pc_feature:\n",
    "    print(pc_df_result[i].mean())"
   ]
  },
  {
   "cell_type": "code",
   "execution_count": 492,
   "metadata": {},
   "outputs": [
    {
     "data": {
      "text/plain": [
       "4330"
      ]
     },
     "execution_count": 492,
     "metadata": {},
     "output_type": "execute_result"
    }
   ],
   "source": [
    "len(pc_df_result.name)"
   ]
  },
  {
   "cell_type": "code",
   "execution_count": 493,
   "metadata": {},
   "outputs": [],
   "source": [
    "## output\n",
    "\n",
    "pc_df_result.to_csv('C:/Users/James Jia/Desktop/HW3/output/all_percentage.csv', \n",
    "                    columns = ['name'], index=False, header=False)"
   ]
  },
  {
   "cell_type": "markdown",
   "metadata": {},
   "source": [
    "## end of assignment"
   ]
  }
 ],
 "metadata": {
  "kernelspec": {
   "display_name": "Python 3",
   "language": "python",
   "name": "python3"
  },
  "language_info": {
   "codemirror_mode": {
    "name": "ipython",
    "version": 3
   },
   "file_extension": ".py",
   "mimetype": "text/x-python",
   "name": "python",
   "nbconvert_exporter": "python",
   "pygments_lexer": "ipython3",
   "version": "3.7.6"
  }
 },
 "nbformat": 4,
 "nbformat_minor": 4
}
